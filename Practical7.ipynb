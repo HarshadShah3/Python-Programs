{
  "nbformat": 4,
  "nbformat_minor": 0,
  "metadata": {
    "colab": {
      "name": "Practical7.ipynb",
      "provenance": [],
      "collapsed_sections": [],
      "include_colab_link": true
    },
    "kernelspec": {
      "name": "python3",
      "display_name": "Python 3"
    },
    "language_info": {
      "name": "python"
    }
  },
  "cells": [
    {
      "cell_type": "markdown",
      "metadata": {
        "id": "view-in-github",
        "colab_type": "text"
      },
      "source": [
        "<a href=\"https://colab.research.google.com/github/HarshadShah3/Python-Programs/blob/main/Practical7.ipynb\" target=\"_parent\"><img src=\"https://colab.research.google.com/assets/colab-badge.svg\" alt=\"Open In Colab\"/></a>"
      ]
    },
    {
      "cell_type": "markdown",
      "metadata": {
        "id": "CM_UhYID34qV"
      },
      "source": [
        "Roll no. : I056\n",
        "\n",
        "Program: B.Tech CS-AI\n",
        "\n",
        "Semester: 2\n",
        "\n",
        "Name : Harshad Shah\n",
        "\n",
        "Batch: I2"
      ]
    },
    {
      "cell_type": "markdown",
      "metadata": {
        "id": "21LGSkvA0tjm"
      },
      "source": [
        "#Task 1\n",
        "##Write a Python program to reverse an array without using an in-built function."
      ]
    },
    {
      "cell_type": "code",
      "metadata": {
        "id": "Ug5Adaed3Z4W"
      },
      "source": [
        "from array import*"
      ],
      "execution_count": 2,
      "outputs": []
    },
    {
      "cell_type": "code",
      "metadata": {
        "colab": {
          "base_uri": "https://localhost:8080/"
        },
        "id": "Z60kNx5A29UL",
        "outputId": "371e3a21-1875-4dcf-9922-1224cf0801ae"
      },
      "source": [
        "a1= array('i',[])\n",
        "for i in range(0,5):\n",
        "  a1.append(int(input('Enter number {}. : '.format(i+1))))\n",
        "\n",
        "print('Original Array: ', a1)\n",
        "\n",
        "a2 = array('i', [])\n",
        "for i in range(len(a1)-1, -1,-1):\n",
        "  a2.append(a1[i])\n",
        "\n",
        "print('Reversed Array: ', a2)"
      ],
      "execution_count": null,
      "outputs": [
        {
          "output_type": "stream",
          "text": [
            "Enter number 1. : 50\n",
            "Enter number 2. : 40\n",
            "Enter number 3. : 30\n",
            "Enter number 4. : 20\n",
            "Enter number 5. : 10\n",
            "Original Array:  array('i', [50, 40, 30, 20, 10])\n",
            "Reversed Array:  array('i', [10, 20, 30, 40, 50])\n"
          ],
          "name": "stdout"
        }
      ]
    },
    {
      "cell_type": "markdown",
      "metadata": {
        "id": "P6wOix_64fZr"
      },
      "source": [
        "#Task 2\n",
        "##Write a Python program to find the frequency of a user given number in an array. (without using an in-built function)"
      ]
    },
    {
      "cell_type": "code",
      "metadata": {
        "colab": {
          "base_uri": "https://localhost:8080/"
        },
        "id": "ZYXy6W_24kM4",
        "outputId": "7af92137-5c5d-47b7-bb9a-5eeb548f5c66"
      },
      "source": [
        "a = array('i',[])\n",
        "for i in range(0,5):\n",
        "  a.append(int(input('Enter element {} of array. : '.format(i+1))))\n",
        "print()\n",
        "print('Array is: ',a)\n",
        "n = int(input('Enter the number to find its frequency: '))\n",
        "c=0  \n",
        "for i in a:\n",
        "  if n==i:\n",
        "    c+=1\n",
        "  else:\n",
        "    continue\n",
        "\n",
        "print('Frequency of {} is {}.'.format(n,c))"
      ],
      "execution_count": null,
      "outputs": [
        {
          "output_type": "stream",
          "text": [
            "Enter element 1 of array. : 12\n",
            "Enter element 2 of array. : 24\n",
            "Enter element 3 of array. : 50\n",
            "Enter element 4 of array. : 24\n",
            "Enter element 5 of array. : 81\n",
            "\n",
            "Array is:  array('i', [12, 24, 50, 24, 81])\n",
            "Enter the number to find its frequency: 24\n",
            "Frequency of 24 is 2.\n"
          ],
          "name": "stdout"
        }
      ]
    },
    {
      "cell_type": "markdown",
      "metadata": {
        "id": "8tJNyFOH57ia"
      },
      "source": [
        "#Task 3: \n",
        "##Write a Python program to place all negative numbers in the array at the end of the array and positive numbers in the beginning.\n"
      ]
    },
    {
      "cell_type": "code",
      "metadata": {
        "colab": {
          "base_uri": "https://localhost:8080/"
        },
        "id": "cVvdt9Me54Gd",
        "outputId": "716c52f3-5c1f-4aec-a7fb-e168fa01ef7a"
      },
      "source": [
        "a = array('i', [1,-2,4,-6,-4,9,6,-7])\n",
        "print('Mixed Array: ',a)\n",
        "print()\n",
        "pos = array('i', [])\n",
        "neg = array('i', [])\n",
        "\n",
        "for i in a:\n",
        "  if i>0:\n",
        "    pos.append(i)\n",
        "  else:\n",
        "    neg.append(i)\n",
        "\n",
        "print('Positive number Array: ', pos)\n",
        "print('Negative number Array: ', neg)\n",
        "\n",
        "pos.extend(neg)\n",
        "print()\n",
        "print('Final Array: ', pos)"
      ],
      "execution_count": null,
      "outputs": [
        {
          "output_type": "stream",
          "text": [
            "Mixed Array:  array('i', [1, -2, 4, -6, -4, 9, 6, -7])\n",
            "\n",
            "Positive number Array:  array('i', [1, 4, 9, 6])\n",
            "Negative number Array:  array('i', [-2, -6, -4, -7])\n",
            "\n",
            "Final Array:  array('i', [1, 4, 9, 6, -2, -6, -4, -7])\n"
          ],
          "name": "stdout"
        }
      ]
    },
    {
      "cell_type": "markdown",
      "metadata": {
        "id": "-SkionvY7p-U"
      },
      "source": [
        "#Task 4\n",
        "##Write a Python program to sort an array in wave form.\n"
      ]
    },
    {
      "cell_type": "code",
      "metadata": {
        "colab": {
          "base_uri": "https://localhost:8080/",
          "height": 0
        },
        "id": "OW_LVU3t7nzC",
        "outputId": "7e92a0b5-9d00-4b34-a25e-71f5007417d3"
      },
      "source": [
        "a = array('i', [2,4,6,8,10,20])\n",
        "print('Original Array: ',a)\n",
        "\n",
        "x = 0\n",
        "y = 1\n",
        "t = 0\n",
        "\n",
        "for i in range (0,6):\n",
        "    for j in range(i + 1, 6):\n",
        "        if(a[i] > a[j]):\n",
        "            t = a[i]\n",
        "            a[i] = a[j]\n",
        "            a[j] = t\n",
        "\n",
        "for k in range(0,3):\n",
        "  t = a[x]\n",
        "  a[x] = a[y]\n",
        "  a[y] = t\n",
        "  x+=2\n",
        "  y+=2\n",
        "\n",
        "print('Wave Form Array: ',a)"
      ],
      "execution_count": 3,
      "outputs": [
        {
          "output_type": "stream",
          "text": [
            "Original Array:  array('i', [2, 4, 6, 8, 10, 20])\n",
            "Wave Form Array:  array('i', [4, 2, 8, 6, 20, 10])\n"
          ],
          "name": "stdout"
        }
      ]
    },
    {
      "cell_type": "markdown",
      "metadata": {
        "id": "yigpuID19Etq"
      },
      "source": [
        "#Task 5\n",
        "##Write a Python program to print a given matrix in spiral form.\n",
        "\n"
      ]
    },
    {
      "cell_type": "code",
      "metadata": {
        "colab": {
          "base_uri": "https://localhost:8080/",
          "height": 0
        },
        "id": "oR6NJbPrzyC2",
        "outputId": "97f994a4-00d1-42ba-fe4b-fd9894817e4b"
      },
      "source": [
        "def spiral(a, row, col):\n",
        "  sr = 0  #row index\n",
        "  sc = 0  #coumn index\n",
        " \n",
        "  while (sr < row and sc < col):\n",
        "      for i in range(sc, col):\n",
        "          print(a[sr][i], end=\" \")\n",
        "      sr += 1  #sr=1\n",
        "\n",
        "\n",
        "      for i in range(sr, row):   \n",
        "           print(a[i][col - 1], end=\" \")\n",
        "      col-= 1   #col =  2\n",
        " \n",
        "\n",
        "      if (sr < row):\n",
        "        for i in range(col - 1, (sc - 1), -1):\n",
        "          print(a[row - 1][i], end=\" \")\n",
        "        row -= 1\n",
        " \n",
        "      if (sc < col):\n",
        "        for i in range(row - 1, sr - 1, -1):\n",
        "          print(a[i][sc], end=\" \")\n",
        "        sc += 1\n",
        "\n",
        "a = [[1,2,3,4,5],\n",
        "     [6,7,8,9,10],\n",
        "     [11,12,13,14,15]]\n",
        "\n",
        "print('Original Matrix:')\n",
        "print(a)\n",
        "print()\n",
        "print('After Spiral: ')\n",
        "\n",
        "row = 3\n",
        "col = 5\n",
        "spiral(a, row, col)"
      ],
      "execution_count": 11,
      "outputs": [
        {
          "output_type": "stream",
          "text": [
            "Original Matrix:\n",
            "[[1, 2, 3, 4, 5], [6, 7, 8, 9, 10], [11, 12, 13, 14, 15]]\n",
            "\n",
            "After Spiral: \n",
            "1 2 3 4 5 10 15 14 13 12 11 6 7 8 9 "
          ],
          "name": "stdout"
        }
      ]
    },
    {
      "cell_type": "markdown",
      "metadata": {
        "id": "0ktWsbnt_VpT"
      },
      "source": [
        "#Task 6.1\n",
        "##Write a Python program to print ‘k’ smallest element in an unsorted array."
      ]
    },
    {
      "cell_type": "code",
      "metadata": {
        "colab": {
          "base_uri": "https://localhost:8080/",
          "height": 0
        },
        "id": "I4SllgSP_fAk",
        "outputId": "70e292ed-5719-4a67-a644-1bdb4df69a7f"
      },
      "source": [
        "a = array('i',[])\n",
        "for i in range(0,5):\n",
        "  a.append(int(input('Enter element {} of array. : '.format(i+1))))\n",
        "print('Array: ',a)\n",
        "\n",
        "n= int(input('Enter which smallest value: '))\n",
        "\n",
        "for i in range (0,5):\n",
        "    for j in range(i + 1, 5):\n",
        "        if(a[i] > a[j]):\n",
        "            t = a[i]\n",
        "            a[i] = a[j]\n",
        "            a[j] = t\n",
        "print('Sorted array: ',a)\n",
        "print('The \"{}\" smallest element is {}.'.format(n,a[n-1]))\n"
      ],
      "execution_count": 10,
      "outputs": [
        {
          "output_type": "stream",
          "text": [
            "Enter element 1 of array. : 3\n",
            "Enter element 2 of array. : 0\n",
            "Enter element 3 of array. : 1\n",
            "Enter element 4 of array. : 7\n",
            "Enter element 5 of array. : 4\n",
            "Array:  array('i', [3, 0, 1, 7, 4])\n",
            "Enter which smallest value: 4\n",
            "Sorted array:  array('i', [0, 1, 3, 4, 7])\n",
            "The \"4\" smallest element is 4.\n"
          ],
          "name": "stdout"
        }
      ]
    },
    {
      "cell_type": "markdown",
      "metadata": {
        "id": "52T_51eCA1wA"
      },
      "source": [
        "#Task 6.2\n",
        "##Write a Python program to print ‘k’ largest element in an unsorted array."
      ]
    },
    {
      "cell_type": "code",
      "metadata": {
        "colab": {
          "base_uri": "https://localhost:8080/",
          "height": 0
        },
        "id": "RqaEa-ICA7Uf",
        "outputId": "2beb8ad6-df2c-435e-ed9d-e1054dc6aa5f"
      },
      "source": [
        "7a = array('i',[])\n",
        "for i in range(0,5):\n",
        "  a.append(int(input('Enter element {} of array. : '.format(i+1))))\n",
        "print('Array: ',a)\n",
        "\n",
        "n= int(input('Enter which largest value: '))\n",
        "\n",
        "for i in range (0,5):\n",
        "    for j in range(i + 1, 5):\n",
        "        if(a[i] < a[j]):\n",
        "            t = a[i]\n",
        "            a[i] = a[j]\n",
        "            a[j] = t\n",
        "print('Sorted array: ',a)\n",
        "print('The \"{}\" largest element is {}.'.format(n,a[n-1]))"
      ],
      "execution_count": 9,
      "outputs": [
        {
          "output_type": "stream",
          "text": [
            "Enter element 1 of array. : 9\n",
            "Enter element 2 of array. : 8\n",
            "Enter element 3 of array. : 6\n",
            "Enter element 4 of array. : 2\n",
            "Enter element 5 of array. : 7\n",
            "Array:  array('i', [9, 8, 6, 2, 7])\n",
            "Enter which largest value: 3\n",
            "Sorted array:  array('i', [9, 8, 7, 6, 2])\n",
            "The \"3\" largest element is 7.\n"
          ],
          "name": "stdout"
        }
      ]
    },
    {
      "cell_type": "markdown",
      "metadata": {
        "id": "8ytD_R9RDK54"
      },
      "source": [
        "#Task 7\n",
        "##Write a Python Program to add two 3x3 Matrices using Nested Loop.\n"
      ]
    },
    {
      "cell_type": "code",
      "metadata": {
        "colab": {
          "base_uri": "https://localhost:8080/",
          "height": 0
        },
        "id": "p5IDyzI0DRF4",
        "outputId": "4630319a-6c82-4c3d-c471-690f3e4a899b"
      },
      "source": [
        "a1 = [[1,2,3],[4,5,6], [7,8,9]]\n",
        "a2 = [[3,6,9],[2,5,8], [1,4,7]]\n",
        "add = [[0,0,0],[0,0,0], [0,0,0]]\n",
        "\n",
        "for i in range(0, 3):\n",
        "  for j in range(0, 3):\n",
        "    add[i][j] = a1[i][j] + a2[i][j]\n",
        "  \n",
        "print('Addition of two matrices is: ')\n",
        "for a in add:\n",
        "    print(a)"
      ],
      "execution_count": 8,
      "outputs": [
        {
          "output_type": "stream",
          "text": [
            "Addition of two matrices is: \n",
            "[4, 8, 12]\n",
            "[6, 10, 14]\n",
            "[8, 12, 16]\n"
          ],
          "name": "stdout"
        }
      ]
    },
    {
      "cell_type": "markdown",
      "metadata": {
        "id": "SjIZabHHFQU5"
      },
      "source": [
        "#Task 8:\n",
        "##Write a Python Program to multiply two Matrices using Nested Loop."
      ]
    },
    {
      "cell_type": "code",
      "metadata": {
        "colab": {
          "base_uri": "https://localhost:8080/",
          "height": 0
        },
        "id": "gkRvKP4UFLSJ",
        "outputId": "2bbbe60a-69cd-4aad-b16f-1cc8719cd622"
      },
      "source": [
        "a1 = np.array([[1,2,3],[4,5,6], [7,8,9]])\n",
        "print('Matrix 1: ')\n",
        "print(a1)\n",
        "\n",
        "print()\n",
        "\n",
        "a2 = np.array([[3,6,9],[2,5,8], [1,4,7]])\n",
        "print('Matrix 2: ')\n",
        "print(a2)\n",
        "\n",
        "mul = np.array([[0,0,0],[0,0,0], [0,0,0]])\n",
        "\n",
        "for i in range(0, 3):\n",
        "  for j in range(0, 3):\n",
        "    for k in range(0,3):\n",
        "      mul[i][j]+=(a1[i][k] * a2[k][j])\n",
        "\n",
        "print()  \n",
        "print('Multiplication of two matrices is: ')\n",
        "print(mul)"
      ],
      "execution_count": 7,
      "outputs": [
        {
          "output_type": "stream",
          "text": [
            "Matrix 1: \n",
            "[[1 2 3]\n",
            " [4 5 6]\n",
            " [7 8 9]]\n",
            "\n",
            "Matrix 2: \n",
            "[[3 6 9]\n",
            " [2 5 8]\n",
            " [1 4 7]]\n",
            "\n",
            "Multiplication of two matrices is: \n",
            "[[ 10  28  46]\n",
            " [ 28  73 118]\n",
            " [ 46 118 190]]\n"
          ],
          "name": "stdout"
        }
      ]
    },
    {
      "cell_type": "markdown",
      "metadata": {
        "id": "LeGDXgpEFXNa"
      },
      "source": [
        "#Task 9\n",
        "##Write a Python Program to Calculate the sum of all columns in a 2D NumPy array\n",
        "\n"
      ]
    },
    {
      "cell_type": "code",
      "metadata": {
        "id": "f-5x0XPJFjTA"
      },
      "source": [
        "import numpy as np"
      ],
      "execution_count": 5,
      "outputs": []
    },
    {
      "cell_type": "code",
      "metadata": {
        "colab": {
          "base_uri": "https://localhost:8080/"
        },
        "id": "PVXu1kEMFoch",
        "outputId": "d33f9750-1b4a-4eaf-ca72-0cd9a695cc76"
      },
      "source": [
        "a= np.array([[1,2,3],[1,1,1],[1,1,1]])\n",
        "print('Array is: ')\n",
        "print(a)\n",
        "colsum =[]\n",
        "for i in range(0,3):\n",
        "  sum=0\n",
        "  for j in range(0,3):\n",
        "    sum = a[j][i]+sum\n",
        "  colsum.append(sum)\n",
        "print('Column wise Sum: ', colsum) "
      ],
      "execution_count": null,
      "outputs": [
        {
          "output_type": "stream",
          "text": [
            "Array is: \n",
            "[[1 2 3]\n",
            " [1 1 1]\n",
            " [1 1 1]]\n",
            "Column wise Sum:  [3, 4, 5]\n"
          ],
          "name": "stdout"
        }
      ]
    },
    {
      "cell_type": "markdown",
      "metadata": {
        "id": "UBcZhcnIGz9Z"
      },
      "source": [
        "#Task 10:\n",
        "##Write a Python Program to find Range and Coefficient of range of Array.\n"
      ]
    },
    {
      "cell_type": "code",
      "metadata": {
        "colab": {
          "base_uri": "https://localhost:8080/"
        },
        "id": "orazx8ZxG6JR",
        "outputId": "04b37e1a-e509-46a1-f8cf-fda75d3dc26c"
      },
      "source": [
        "a = np.array([10, 20, 30, 5, 8])\n",
        "print('Array is: ', a)\n",
        "max = a.max()\n",
        "min = a.min()\n",
        "\n",
        "range = max - min\n",
        "coeff = (max - min)/(max + min)\n",
        "\n",
        "print('Range: ', range)\n",
        "print('Coefficient of Range: ', coeff)"
      ],
      "execution_count": null,
      "outputs": [
        {
          "output_type": "stream",
          "text": [
            "Array is:  [10 20 30  5  8]\n",
            "Range:  25\n",
            "Coefficient of Range:  0.7142857142857143\n"
          ],
          "name": "stdout"
        }
      ]
    }
  ]
}