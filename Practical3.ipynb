{
  "nbformat": 4,
  "nbformat_minor": 0,
  "metadata": {
    "colab": {
      "name": "Practical3.ipynb",
      "provenance": [],
      "collapsed_sections": [],
      "include_colab_link": true
    },
    "kernelspec": {
      "name": "python3",
      "display_name": "Python 3"
    }
  },
  "cells": [
    {
      "cell_type": "markdown",
      "metadata": {
        "id": "view-in-github",
        "colab_type": "text"
      },
      "source": [
        "<a href=\"https://colab.research.google.com/github/HarshadShah3/Python-Programs/blob/main/Practical3.ipynb\" target=\"_parent\"><img src=\"https://colab.research.google.com/assets/colab-badge.svg\" alt=\"Open In Colab\"/></a>"
      ]
    },
    {
      "cell_type": "markdown",
      "metadata": {
        "id": "Y6xB0rusv3nd"
      },
      "source": [
        "Roll no. : I056\r\n",
        "\r\n",
        "Program: B.Tech CS-AI\r\n",
        "\r\n",
        "Semester: 2\r\n",
        "\r\n",
        "Date of Experiment: 01/03/2021\r\n",
        "\r\n",
        "Name : Harshad Shah\r\n",
        "\r\n",
        "Division: I\r\n",
        "\r\n",
        "Batch: I2\r\n"
      ]
    },
    {
      "cell_type": "markdown",
      "metadata": {
        "id": "pbIY2pOJVW9m"
      },
      "source": [
        "Task 1:  \r\n",
        "A shop will give a discount of 10% if the cost of the purchased quantity is more than 1000.\r\n",
        "One unit will cost 100. Write a program to take quantity as input from the user and print the total cost for the user.\r\n"
      ]
    },
    {
      "cell_type": "code",
      "metadata": {
        "colab": {
          "base_uri": "https://localhost:8080/"
        },
        "id": "wuWp_uiRVbRg",
        "outputId": "6d32f5a0-5d2a-4d8d-a651-ec27b5d0639e"
      },
      "source": [
        "quant = int(input('Enter number of items: '))\r\n",
        "sum = float(quant*100)\r\n",
        "if sum>1000:\r\n",
        "  sum = sum - (0.1*sum)\r\n",
        "print(f'The price of {quant} items is: Rs. {sum}')"
      ],
      "execution_count": null,
      "outputs": [
        {
          "output_type": "stream",
          "text": [
            "Enter number of items: 11\n",
            "The price of 11 items is: Rs. 990.0\n"
          ],
          "name": "stdout"
        }
      ]
    },
    {
      "cell_type": "markdown",
      "metadata": {
        "id": "l68xKGDJWMmB"
      },
      "source": [
        "Task 2:  \r\n",
        "A school has the following rules for the grading system:\r\n",
        "●\tBelow 25 - F\r\n",
        "●\t25 to 45 - E\r\n",
        "●\t45 to 50 - D\r\n",
        "●\t50 to 60 - C\r\n",
        "●\t60 to 80 - B\r\n",
        "●\tAbove 80 - A\r\n",
        "Ask the user to enter marks and print the corresponding grade.\r\n"
      ]
    },
    {
      "cell_type": "code",
      "metadata": {
        "colab": {
          "base_uri": "https://localhost:8080/"
        },
        "id": "wV2pb1FuWOYX",
        "outputId": "f97b9fe1-5fb0-47f7-f0c9-6654068e47e2"
      },
      "source": [
        "marks = float(input('Enter marks for grade: '))\r\n",
        "if marks<25:\r\n",
        "  print('Grade = F')\r\n",
        "elif marks>=25 and marks<45:\r\n",
        "  print('Grade = E')\r\n",
        "elif marks>=45 and marks<50:\r\n",
        "  print('Grade = D')\r\n",
        "elif marks>=50 and marks<60:\r\n",
        "  print('Grade = C')\r\n",
        "elif marks>=60 and marks<80:\r\n",
        "  print('Grade = B')\r\n",
        "elif marks>=80:\r\n",
        "  print('Grade = A')"
      ],
      "execution_count": null,
      "outputs": [
        {
          "output_type": "stream",
          "text": [
            "Enter marks for grade: 85\n",
            "Grade = A\n"
          ],
          "name": "stdout"
        }
      ]
    },
    {
      "cell_type": "markdown",
      "metadata": {
        "id": "0BKXRNsuXMvO"
      },
      "source": [
        "Task 3:  \r\n",
        "\r\n",
        "Ask users to enter age, gender ( M or F ), marital status ( Y or N ), and then using the following rules print their place of service.\r\n",
        "●\tIf the employee is female, then she will work only in urban areas.\r\n",
        "●\tIf an employee is a male and age is between 20 to 40 then he may work anywhere\r\n",
        "●\tIf the employee is male and the age is between 40 to 60 then he will work in urban areas only.\r\n",
        "And any other input of age should print \"ERROR\".\r\n"
      ]
    },
    {
      "cell_type": "code",
      "metadata": {
        "colab": {
          "base_uri": "https://localhost:8080/"
        },
        "id": "dknpl6rbXPFo",
        "outputId": "1eb1852e-881f-4364-ffe8-c1f45639a415"
      },
      "source": [
        "age = int(input('Enter Age: '))\r\n",
        "gen = str(input('Enter Gender(M or F): '))\r\n",
        "mar = str(input('Enter Marital Status(Y or N): '))\r\n",
        "\r\n",
        "if gen=='F':\r\n",
        "  print('Place of service: Urban Areas only')\r\n",
        "elif gen=='M':\r\n",
        "  if age>20 and age<40:\r\n",
        "    print('Place of service: Anywhere')\r\n",
        "  elif age>=40 and age<=60:\r\n",
        "    print('Place of service: Urban Areas only')\r\n",
        "  else:\r\n",
        "    print('Error')"
      ],
      "execution_count": null,
      "outputs": [
        {
          "output_type": "stream",
          "text": [
            "Enter Age: 35\n",
            "Enter Gender(M or F): M\n",
            "Enter Marital Status(Y or N): Y\n",
            "Place of service: Anywhere\n"
          ],
          "name": "stdout"
        }
      ]
    },
    {
      "cell_type": "markdown",
      "metadata": {
        "id": "iHE3xLIUZKlF"
      },
      "source": [
        "Task 4: \r\n",
        "Write a program to print BMI (Body Mass Index), calculator.\r\n",
        "Reference : https://cdn.vertex42.com/ExcelTemplates/Images/bmi-chart.gif\r\n",
        "\r\n"
      ]
    },
    {
      "cell_type": "code",
      "metadata": {
        "colab": {
          "base_uri": "https://localhost:8080/"
        },
        "id": "Bv1LJoMLZLJe",
        "outputId": "47ff1b72-8ed2-4957-ad6e-7f0c4574e562"
      },
      "source": [
        "wt = float(input('Enter Weight in Kilograms: '))\r\n",
        "ht = float(input('Enter Height in Metres: '))\r\n",
        "bmi = float(wt/(ht**2))\r\n",
        "if bmi<18.5:\r\n",
        "  print('Underweight')\r\n",
        "elif bmi>=18.5 and bmi<=25:\r\n",
        "  print('Normal')\r\n",
        "elif bmi>25 and bmi<30:\r\n",
        "  print('Overweight')\r\n",
        "elif bmi>=30:\r\n",
        "  print('Obese')"
      ],
      "execution_count": null,
      "outputs": [
        {
          "output_type": "stream",
          "text": [
            "Enter Weight in Kilograms: 65\n",
            "Enter Height in Metres: 1.8034\n",
            "Normal\n"
          ],
          "name": "stdout"
        }
      ]
    },
    {
      "cell_type": "markdown",
      "metadata": {
        "id": "uZxVAKT1admu"
      },
      "source": [
        "Task 5:  \r\n",
        "Write a program to get the next day of a given date.(Also consider leap year)\r\n",
        "Expected Output : Given date : 25-02-2021 then next day is 26-02-2021.\r\n"
      ]
    },
    {
      "cell_type": "code",
      "metadata": {
        "colab": {
          "base_uri": "https://localhost:8080/"
        },
        "id": "vluBP-6dafBz",
        "outputId": "59960f70-a1c4-40e4-9baf-9c4a1cf99523"
      },
      "source": [
        "date=input(\"Enter date in DD-MM-YYYY: \")\r\n",
        "d, m, y=date.split(\"-\")\r\n",
        "leap=False\r\n",
        "days=[31,28,31,30,31,30,31,31,30,31,30,31]\r\n",
        "year=int(y)\r\n",
        "month=int(m)\r\n",
        "day=int(d)\r\n",
        "if year%4 ==0:\r\n",
        "  leap=True\r\n",
        "  if year%100 ==0:\r\n",
        "    leap=False\r\n",
        "    if year%400 == 0:\r\n",
        "      leap=True   \r\n",
        "if leap is True:days[1]=29 \r\n",
        "if day < days[month-1]:\r\n",
        "   print(f\"{day+1}-{month}-{year}\")\r\n",
        "elif month<12:\r\n",
        "   print(f'1-{month+1}-{year}')\r\n",
        "else:\r\n",
        "   print(f'1-1-{year+1}')"
      ],
      "execution_count": null,
      "outputs": [
        {
          "output_type": "stream",
          "text": [
            "Enter date in DD-MM-YYYY: 22-02-2021\n",
            "23-2-2021\n"
          ],
          "name": "stdout"
        }
      ]
    },
    {
      "cell_type": "markdown",
      "metadata": {
        "id": "xvJHfgTmec11"
      },
      "source": [
        "Task 6 : \r\n",
        "Write a program to print Odd and Even numbers from the list of integers. Create 2 empty lists to save even and odd numbers accordingly.\r\n"
      ]
    },
    {
      "cell_type": "code",
      "metadata": {
        "colab": {
          "base_uri": "https://localhost:8080/"
        },
        "id": "qp8nyxjzefbs",
        "outputId": "8e92de92-3223-45eb-f496-4dce8e5822c8"
      },
      "source": [
        "nums = [1,2,3,4,5,6,7,8,9,10]\r\n",
        "odd = list()\r\n",
        "even = list()\r\n",
        "for i in nums:\r\n",
        "  if i%2==0:\r\n",
        "    even.append(i)\r\n",
        "  else:\r\n",
        "    odd.append(i)\r\n",
        "print(odd)\r\n",
        "print(even)"
      ],
      "execution_count": null,
      "outputs": [
        {
          "output_type": "stream",
          "text": [
            "[1, 3, 5, 7, 9]\n",
            "[2, 4, 6, 8, 10]\n"
          ],
          "name": "stdout"
        }
      ]
    },
    {
      "cell_type": "markdown",
      "metadata": {
        "id": "YRLpiZUlfOjD"
      },
      "source": [
        "Task 7 :\r\n",
        "Write a program to check the user entered number is an Armstrong Number.\r\n"
      ]
    },
    {
      "cell_type": "code",
      "metadata": {
        "colab": {
          "base_uri": "https://localhost:8080/"
        },
        "id": "Sa6QSZjtfZK-",
        "outputId": "f57df36f-ca56-4e71-f78d-f16b78cc8588"
      },
      "source": [
        "num = int(input('Enter number: '))\r\n",
        "t = num\r\n",
        "sum = int(0)\r\n",
        "d = int(0)\r\n",
        "while num>0:\r\n",
        "  d = num%10\r\n",
        "  sum = sum + (d**3)\r\n",
        "  num = num//10\r\n",
        "if sum==t:\r\n",
        "  print('Armstrong number')\r\n",
        "else:\r\n",
        "  print('Not Armstrong number')"
      ],
      "execution_count": null,
      "outputs": [
        {
          "output_type": "stream",
          "text": [
            "Enter number: 153\n",
            "Armstrong number\n"
          ],
          "name": "stdout"
        }
      ]
    },
    {
      "cell_type": "markdown",
      "metadata": {
        "id": "KZAhOy7yg83O"
      },
      "source": [
        "Task 8 : \r\n",
        "Write a program to print out the decimal equivalents of 1/2,1/3,1/4,…1/10.\r\n",
        "Expected Output: 0.5, 0.333, 0.25………..0.125, 0.1\r\n"
      ]
    },
    {
      "cell_type": "code",
      "metadata": {
        "colab": {
          "base_uri": "https://localhost:8080/"
        },
        "id": "S_ywFxr0g_1A",
        "outputId": "bdae7506-37df-412c-81b2-4bf7ff40c995"
      },
      "source": [
        "numer = int(input('Numerator: '))\r\n",
        "denom = int(input('Denominator: '))\r\n",
        "dec = float(numer/denom)\r\n",
        "print(dec)"
      ],
      "execution_count": null,
      "outputs": [
        {
          "output_type": "stream",
          "text": [
            "Numerator: 1\n",
            "Denominator: 10\n",
            "0.1\n"
          ],
          "name": "stdout"
        }
      ]
    },
    {
      "cell_type": "markdown",
      "metadata": {
        "id": "XOFO24KkhSpP"
      },
      "source": [
        "Task 9:\r\n",
        "Write a program to count the number of even and odd numbers from a series of numbers.\r\n",
        "(Initialize Tuple )\r\n"
      ]
    },
    {
      "cell_type": "code",
      "metadata": {
        "colab": {
          "base_uri": "https://localhost:8080/"
        },
        "id": "N1J-eEXrhUrQ",
        "outputId": "8f9f9fcc-b3aa-4c16-e04d-afa8af6d1abc"
      },
      "source": [
        "nums = (1,2,3,4,5,6,7,8,9,10)\r\n",
        "odd = int()\r\n",
        "even = int()\r\n",
        "for i in nums:\r\n",
        "  if i%2 == 0:\r\n",
        "    even = even + 1\r\n",
        "  else:\r\n",
        "    odd = odd + 1\r\n",
        "print('Odd numbers = ', odd)\r\n",
        "print('Even numbers = ', even)"
      ],
      "execution_count": null,
      "outputs": [
        {
          "output_type": "stream",
          "text": [
            "Odd numbers =  5\n",
            "Even numbers =  5\n"
          ],
          "name": "stdout"
        }
      ]
    },
    {
      "cell_type": "markdown",
      "metadata": {
        "id": "AG3JuNThhwAd"
      },
      "source": [
        "Task 10:\r\n",
        "Write a program to display the multiplication table of 19.\r\n",
        "Expected Output: 19 * 1 = 19…19 * 10 = 190\r\n"
      ]
    },
    {
      "cell_type": "code",
      "metadata": {
        "colab": {
          "base_uri": "https://localhost:8080/"
        },
        "id": "KtFtPgWThxV9",
        "outputId": "3a032d7a-000a-47d6-880d-3dd7a7fba66f"
      },
      "source": [
        "for i in range(10):\r\n",
        "  print(f'19 * {i+1} = {19*(i+1)}')"
      ],
      "execution_count": null,
      "outputs": [
        {
          "output_type": "stream",
          "text": [
            "19 * 1 = 19\n",
            "19 * 2 = 38\n",
            "19 * 3 = 57\n",
            "19 * 4 = 76\n",
            "19 * 5 = 95\n",
            "19 * 6 = 114\n",
            "19 * 7 = 133\n",
            "19 * 8 = 152\n",
            "19 * 9 = 171\n",
            "19 * 10 = 190\n"
          ],
          "name": "stdout"
        }
      ]
    },
    {
      "cell_type": "markdown",
      "metadata": {
        "id": "DtqFldpFiE7g"
      },
      "source": [
        "Task 11:\r\n",
        "Write a program to print the sum of the Series 1 + x/1 + x^2/2 + x^3/3 + .. + x^n/n.\r\n",
        "Test Case 1 : x = 3, n = 5→ sum = 86.35\r\n",
        "Test Case 2 : x = 5, n = 3→ sum = 60.17\r\n"
      ]
    },
    {
      "cell_type": "code",
      "metadata": {
        "colab": {
          "base_uri": "https://localhost:8080/"
        },
        "id": "Ou6qmoNDjlBl",
        "outputId": "a47c9d6b-99fe-4378-a0a3-29fd916c091a"
      },
      "source": [
        "x = int(input('Enter x: '))\r\n",
        "n = int(input('Enter n: '))\r\n",
        "sum = float(0.0)\r\n",
        "for i in range(1,n+1):\r\n",
        "  sum = sum + ((x**i)/(i))\r\n",
        "print(sum+1)"
      ],
      "execution_count": null,
      "outputs": [
        {
          "output_type": "stream",
          "text": [
            "Enter x: 3\n",
            "Enter n: 5\n",
            "86.35\n"
          ],
          "name": "stdout"
        }
      ]
    },
    {
      "cell_type": "markdown",
      "metadata": {
        "id": "EUoGY6lbltGG"
      },
      "source": [
        "Task 12:\r\n",
        "Write a program to get the Fibonacci series between 0 to 100. \r\n"
      ]
    },
    {
      "cell_type": "code",
      "metadata": {
        "colab": {
          "base_uri": "https://localhost:8080/"
        },
        "id": "kFTWuvFgmkL1",
        "outputId": "609463e3-4633-4dad-914e-f97cb06003de"
      },
      "source": [
        "n1 = int(0)\r\n",
        "n2 = int(1)\r\n",
        "sum = int(0)\r\n",
        "while sum<=100:\r\n",
        "  sum = n1 + n2\r\n",
        "  n1 = n2\r\n",
        "  n2 = sum\r\n",
        "  if sum>100:\r\n",
        "    break\r\n",
        "  print(sum)"
      ],
      "execution_count": null,
      "outputs": [
        {
          "output_type": "stream",
          "text": [
            "1\n",
            "2\n",
            "3\n",
            "5\n",
            "8\n",
            "13\n",
            "21\n",
            "34\n",
            "55\n",
            "89\n"
          ],
          "name": "stdout"
        }
      ]
    },
    {
      "cell_type": "markdown",
      "metadata": {
        "id": "R-Mt-Yd-nIhn"
      },
      "source": [
        "Task 13: \r\n",
        "Write a program to print digits in reverse order of a number.\r\n"
      ]
    },
    {
      "cell_type": "code",
      "metadata": {
        "colab": {
          "base_uri": "https://localhost:8080/"
        },
        "id": "fiKLFfRinKik",
        "outputId": "962d90cd-3940-44e3-fba1-594c7971fd9a"
      },
      "source": [
        "n = int(input('Enter number: '))\r\n",
        "count = len(str(n))\r\n",
        "print(count)\r\n",
        "d=int(0)\r\n",
        "res = int(0)\r\n",
        "mul = 10**(count-1)\r\n",
        "while(n>0):\r\n",
        "  d = n%10\r\n",
        "  res = res + d*mul\r\n",
        "  mul = mul/10\r\n",
        "  n = n//10\r\n",
        "print(n)\r\n",
        "print(res)\r\n",
        "\r\n"
      ],
      "execution_count": null,
      "outputs": [
        {
          "output_type": "stream",
          "text": [
            "Enter number: 1234\n",
            "4\n",
            "0\n",
            "4321.0\n"
          ],
          "name": "stdout"
        }
      ]
    }
  ]
}