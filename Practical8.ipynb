{
  "nbformat": 4,
  "nbformat_minor": 0,
  "metadata": {
    "colab": {
      "name": "Practical8.ipynb",
      "provenance": [],
      "collapsed_sections": [],
      "include_colab_link": true
    },
    "kernelspec": {
      "name": "python3",
      "display_name": "Python 3"
    },
    "language_info": {
      "name": "python"
    }
  },
  "cells": [
    {
      "cell_type": "markdown",
      "metadata": {
        "id": "view-in-github",
        "colab_type": "text"
      },
      "source": [
        "<a href=\"https://colab.research.google.com/github/HarshadShah3/Python-Programs/blob/main/Practical8.ipynb\" target=\"_parent\"><img src=\"https://colab.research.google.com/assets/colab-badge.svg\" alt=\"Open In Colab\"/></a>"
      ]
    },
    {
      "cell_type": "markdown",
      "metadata": {
        "id": "tv3CSNc1FXmN"
      },
      "source": [
        "Roll no. : I056\n",
        "\n",
        "Program: B.Tech CS-AI\n",
        "\n",
        "Semester: 2\n",
        "\n",
        "Name : Harshad Shah\n",
        "\n",
        "Batch: I2"
      ]
    },
    {
      "cell_type": "markdown",
      "metadata": {
        "id": "27WKX9mMIJHT"
      },
      "source": [
        "Task 1:\n",
        "Given dictionary items:\n",
        "inventory = {\n",
        "    'gold' : 500,\n",
        "    'pouch' : ['flint', 'twine', 'gemstone'],\n",
        "    'backpack' : ['xylophone','dagger', 'bedroll','bread loaf']\n",
        "}\n",
        "\n",
        "Perform Following tasks:\n",
        "●\tAdd a key to inventory called 'pocket'.\n",
        "●\tSet the value of 'pocket' to be a list consisting of the strings 'seashell', 'strange berry', and 'lint'.\n",
        "●\tSort items in the list stored under the 'backpack' key.\n",
        "●\tRemove('dagger') from the list of items stored under the 'backpack' key.\n"
      ]
    },
    {
      "cell_type": "code",
      "metadata": {
        "colab": {
          "base_uri": "https://localhost:8080/"
        },
        "id": "HLic9POJIHuq",
        "outputId": "c627e9a9-522b-454e-f30d-d1e627dab1b0"
      },
      "source": [
        "inventory = {\n",
        "    'gold' : 500,\n",
        "    'pouch' : ['flint', 'twine', 'gemstone'],\n",
        "    'backpack' : ['xylophone','dagger', 'bedroll','bread loaf']\n",
        "}\n",
        "inventory['pocket'] = ['seashell', 'strange berry', 'lint']\n",
        "inventory['backpack'] = sorted(inventory['backpack'])\n",
        "inventory['backpack'].remove('dagger')\n",
        "print(inventory)"
      ],
      "execution_count": null,
      "outputs": [
        {
          "output_type": "stream",
          "text": [
            "{'gold': 500, 'pouch': ['flint', 'twine', 'gemstone'], 'backpack': ['bedroll', 'bread loaf', 'xylophone'], 'pocket': ['seashell', 'strange berry', 'lint']}\n"
          ],
          "name": "stdout"
        }
      ]
    },
    {
      "cell_type": "markdown",
      "metadata": {
        "id": "VdjtlcoLJQ59"
      },
      "source": [
        "Task 2:\n",
        "a.\tCreate a new dictionary called prices using these values.\n",
        "\"Banana\": 45\n",
        "\"Apple\": 200\n",
        "\"Orange\": 150\n",
        "\"Pear\": 120\n",
        "\n",
        "b.\tCreate a new dictionary called stock using these values.\n",
        "\"Banana\"= 6\n",
        "\"Apple\"= 0\n",
        "\"Orange\" =32\n",
        "\"Pear\"= 15\n",
        "\n",
        "\n",
        "c.\tFor each key, print out the key along with its price and stock information. \n",
        "Print the answer in the following format:\n",
        "apple\n",
        "price: 2\n",
        "stock: 0\n",
        "\n",
        "\n",
        "d.\tDetermine how much money you would make if you sold all of your food.\n",
        "Create a variable called total and set it to zero.\n",
        "For each key in prices, multiply the number in prices by the number in stock. And find the total.\n"
      ]
    },
    {
      "cell_type": "code",
      "metadata": {
        "colab": {
          "base_uri": "https://localhost:8080/",
          "height": 0
        },
        "id": "bH9g6AB9JTWs",
        "outputId": "be37839b-0e77-4db7-d15d-4ffe6747fba3"
      },
      "source": [
        "prices = {\n",
        "    'Banana' : 45,\n",
        "    'Apple' : 200,\n",
        "    'Orange' : 150,\n",
        "    'Pear' : 120\n",
        "}\n",
        "stock = {\n",
        "    'Banana' : 6,\n",
        "    'Apple' : 0,\n",
        "    'Orange' : 32,\n",
        "    'Pear' : 15\n",
        "}\n",
        "for k,v in prices.items():\n",
        "    print(f'{k} : Price per item = {v}, Current stock = {stock[k]}')\n",
        "\n",
        "total = int(0)\n",
        "for k,v in prices.items():\n",
        "    total = v * stock[k]\n",
        "print(f'Total Stock Value = {total}')"
      ],
      "execution_count": 1,
      "outputs": [
        {
          "output_type": "stream",
          "text": [
            "Banana : Price per item = 45, Current stock = 6\n",
            "Apple : Price per item = 200, Current stock = 0\n",
            "Orange : Price per item = 150, Current stock = 32\n",
            "Pear : Price per item = 120, Current stock = 15\n",
            "Total Stock Value = 1800\n"
          ],
          "name": "stdout"
        }
      ]
    },
    {
      "cell_type": "markdown",
      "metadata": {
        "id": "qV5ZUQzfKbMI"
      },
      "source": [
        "Task 3: \n",
        "a.\tCreate three dictionaries: lloyd, alice, and ritchie.\n",
        "b.\tGive each dictionary the keys \"name\", \"homework\", \"quizzes\", and \"tests\".\n",
        "c.\tHave the \"name\" key be the name of the student (that is, lloyd's name should be \"Lloyd\") \n",
        "Example :  lloyd = {\n",
        "  \"name\": \"Lloyd\",\n",
        "  \"homework\": [90.0,97.0,75.0,92.0],\n",
        "  \"quizzes\": [88.0,40.0,94.0],\n",
        "  \"tests\": [75.0,90.0]\n",
        "}\n",
        "3.1. Write a function average that takes a list of numbers and returns the average.\n",
        "1.\tDefine a function called average that has one argument, numbers.\n",
        "2.\tInside that function, call the built-in sum() function with the numbers list as a parameter. Store the result in a variable called total.\n",
        "3.\tUse float() to convert total and store the result in total.\n",
        "4.\tDivide total by the length of the numbers list. Use the built-in len() function to calculate that.Return that result.\n",
        "\n",
        "3.2. Write a function called get_average that takes a student dictionary (like  lloyd, alice, and ritchie) as input and returns his/her weighted average.\n",
        "\n",
        "3.3. Define a new function called get_letter_grade that has one argument called score. \n",
        "1.\tInside function, test score using a chain of if: / elif: / else: statements, like so:\n",
        "2.\tIf score is 250 or above: return \"A\"\n",
        "Else if score is 200 or above: return \"B\"\n",
        "Else if score is 150 or above: return \"C\"\n",
        "Else if score is 100 or above: return \"D\"\n",
        "Otherwise: return \"F\"\n",
        "3.\tFinally, test your function. Call your get_letter_grade function with the result of get_average(lloyd). Print the resulting letter grade.\n",
        "\n"
      ]
    },
    {
      "cell_type": "code",
      "metadata": {
        "colab": {
          "base_uri": "https://localhost:8080/"
        },
        "id": "x2t6NN-JKeRn",
        "outputId": "c3a1cc3c-cf8a-43a3-92c7-81f5a5d0b0fe"
      },
      "source": [
        "lloyd = {\n",
        "    'name':'Lloyd',\n",
        "    'homework':[90.0,97.0,75.0,92.0],\n",
        "    'quizzes':[88.0,40.0,94.0],\n",
        "    'tests':[75.0,90.0]\n",
        "}\n",
        "alice = {\n",
        "    'name':'Alice',\n",
        "    'homework':[88.0,93.0,79.0,99.0],\n",
        "    'quizzes':[99.0,87.0,91.0],\n",
        "    'tests':[80.0,90.0]\n",
        "}\n",
        "ritchie = {\n",
        "    'name':'Ritchie',\n",
        "    'homework':[76.0,99.0,85.0,97.0],\n",
        "    'quizzes':[89.0,83.0,98.0],\n",
        "    'tests':[91.0,79.0]\n",
        "}\n",
        "def average(nums):\n",
        "    total = sum(nums)\n",
        "    total = float(total)\n",
        "    return total/len(nums)\n",
        "def get_average(name):\n",
        "    l = list()\n",
        "    total_avg = average(name['homework'])+average(name['quizzes'])+average(name['tests'])\n",
        "    return float(total_avg/3)\n",
        "def get_letter_grade(score):\n",
        "    if score>=250:\n",
        "        return 'A'\n",
        "    elif score>=200 and score<250:\n",
        "        return 'B'\n",
        "    elif score>=100 and score<150:\n",
        "        return 'C'\n",
        "    elif score>=100:\n",
        "        return 'D'\n",
        "    else:\n",
        "        return 'F'\n",
        "print(get_letter_grade(get_average(lloyd)))"
      ],
      "execution_count": null,
      "outputs": [
        {
          "output_type": "stream",
          "text": [
            "F\n"
          ],
          "name": "stdout"
        }
      ]
    },
    {
      "cell_type": "markdown",
      "metadata": {
        "id": "E3Z_amM4PLpV"
      },
      "source": [
        "Task 4:  \n",
        "Write a Python program to remove duplicates from the following dictionary\n",
        "Example : \n",
        "Input: {'a': 'apple', 'b': 'banana', 'c': 'coconut', 'd': 'dragonfruit', 'e': 'apple', 'f': 'banana', 'g': 'guava'}\n",
        "Output:{'a': 'apple', 'b': 'banana', 'c': 'coconut', 'd': 'dragonfruit', 'g': 'guava'}\n"
      ]
    },
    {
      "cell_type": "code",
      "metadata": {
        "colab": {
          "base_uri": "https://localhost:8080/"
        },
        "id": "q-BptFk8PNGQ",
        "outputId": "8d607227-9862-4a93-d4f6-01b7d1dd4dbd"
      },
      "source": [
        "inpdict = {'a': 'apple', 'b': 'banana', 'c': 'coconut', 'd': 'dragonfruit', 'e': 'apple', 'f': 'banana', 'g': 'guava'}\n",
        "p = set(inpdict)\n",
        "resdict = dict()\n",
        "for k,v in inpdict.items():\n",
        "    if v not in resdict.values():\n",
        "        resdict[k] = v\n",
        "print(resdict)"
      ],
      "execution_count": null,
      "outputs": [
        {
          "output_type": "stream",
          "text": [
            "{'a': 'apple', 'b': 'banana', 'c': 'coconut', 'd': 'dragonfruit', 'g': 'guava'}\n"
          ],
          "name": "stdout"
        }
      ]
    },
    {
      "cell_type": "markdown",
      "metadata": {
        "id": "wDZd2ykqQxpr"
      },
      "source": [
        "Task 5 : \n",
        "Write a Python program to combine and create a dictionary from two other dictionaries by  adding their values for common keys.\n",
        "Example : \n",
        "Input:\n",
        "D1 = {'apple': 1800, 'banana': 2500, 'coconut': 4300}\n",
        "D2 = {'apple': 3000, 'banana': 2000, 'grapes': 4000}\n",
        "Output: \n",
        "{'apple': 4800, 'banana': 4500, 'coconut': 4300, 'grapes': 4000}\n"
      ]
    },
    {
      "cell_type": "code",
      "metadata": {
        "colab": {
          "base_uri": "https://localhost:8080/"
        },
        "id": "-TneKmicQyw4",
        "outputId": "ce700e44-5d75-4d47-ddaa-1a6f5e083159"
      },
      "source": [
        "D1 = {'apple': 1800, 'banana': 2500, 'coconut': 4300}\n",
        "D2 = {'apple': 3000, 'banana': 2000, 'grapes': 4000}\n",
        "finalres = dict()\n",
        "for k,v in D1.items():\n",
        "    if k in D2.keys():\n",
        "        finalres[k] = v + D2[k]\n",
        "    if k not in D2.keys():\n",
        "        finalres[k] = v\n",
        "for k,v in D2.items():\n",
        "    if k not in finalres.keys():\n",
        "        finalres[k] = v\n",
        "print(finalres)"
      ],
      "execution_count": null,
      "outputs": [
        {
          "output_type": "stream",
          "text": [
            "{'apple': 4800, 'banana': 4500, 'coconut': 4300, 'grapes': 4000}\n"
          ],
          "name": "stdout"
        }
      ]
    },
    {
      "cell_type": "markdown",
      "metadata": {
        "id": "QpWky23yRRZS"
      },
      "source": [
        "Task 6 : \n",
        "Write a Python program to create a dictionary from a string.\n",
        "Input:\n",
        "string: Programming\n",
        "Output: \n",
        "{'P': 1, 'r': 2, 'o': 1, 'g': 2, 'a': 1, 'm': 2, 'i': 1, 'n': 1}\n"
      ]
    },
    {
      "cell_type": "code",
      "metadata": {
        "colab": {
          "base_uri": "https://localhost:8080/"
        },
        "id": "AgEWUZTsRzhu",
        "outputId": "f2af818a-080a-4ef6-aa26-2affacc58461"
      },
      "source": [
        "inp = str(input('Enter String : '))\n",
        "res = dict()\n",
        "for i in inp:\n",
        "    if i in res.keys():\n",
        "        res[i] = res[i]+1\n",
        "    else:\n",
        "        res[i] = 1\n",
        "print(res)"
      ],
      "execution_count": null,
      "outputs": [
        {
          "output_type": "stream",
          "text": [
            "Enter String : Programming\n",
            "{'P': 1, 'r': 2, 'o': 1, 'g': 2, 'a': 1, 'm': 2, 'i': 1, 'n': 1}\n"
          ],
          "name": "stdout"
        }
      ]
    },
    {
      "cell_type": "markdown",
      "metadata": {
        "id": "n05_LIVdTZMa"
      },
      "source": [
        "Task 7:\n",
        "Write a program to input your friends names and their Phone Numbers and store them in the dictionary as the key-value pair. (take 5 key value pair)\n",
        "Perform the following operations on the dictionary:\n",
        "a) Display the name and phone number of all your friends\n",
        "b) Add a new key-value pair in this dictionary and display the modified dictionary\n",
        "c) Delete a particular friend from the dictionary\n",
        "d) Modify the phone number of an existing friend\n",
        "e) Check if a friend is present in the dictionary or not\n",
        "f) Display the dictionary in sorted order of names\n"
      ]
    },
    {
      "cell_type": "code",
      "metadata": {
        "colab": {
          "base_uri": "https://localhost:8080/",
          "height": 0
        },
        "id": "itewiarFTcLj",
        "outputId": "a5a38b9b-ede0-4ef2-8400-74a9f1ae34d9"
      },
      "source": [
        "contacts = dict()\n",
        "for i in range(0,5):\n",
        "    name = str(input('Enter name: '))\n",
        "    contacts[name] = str(input('Enter phone number: '))\n",
        "for k,v in contacts.items():\n",
        "    print(f'{k} : {v}')\n",
        "name3 = str(input('Enter name to add number: '))\n",
        "contacts[name3] = str(input('Enter new contact number: '))\n",
        "print(contacts)\n",
        "name1 = str(input('Enter name to delete number: '))\n",
        "del contacts[name1]\n",
        "print(contacts)\n",
        "name2 = str(input('Enter name to change number: '))\n",
        "contacts[name2] = str(input('Enter new number: '))\n",
        "print(contacts)\n",
        "name4 = str(input('Check if friend is in dictionary: '))\n",
        "if name4 in contacts:\n",
        "    print(f'{name4} is in Contacts')\n",
        "else:\n",
        "    print(f'{name4} is not in Contacts')\n",
        "for k,v in sorted(contacts.items()):\n",
        "    print(f'{k} = {v}')\n",
        "\n"
      ],
      "execution_count": 2,
      "outputs": [
        {
          "output_type": "stream",
          "text": [
            "Enter name: number1\n",
            "Enter phone number: 147\n",
            "Enter name: number2\n",
            "Enter phone number: 258\n",
            "Enter name: number3\n",
            "Enter phone number: 369\n",
            "Enter name: number4\n",
            "Enter phone number: 123\n",
            "Enter name: number5\n",
            "Enter phone number: 456\n",
            "number1 : 147\n",
            "number2 : 258\n",
            "number3 : 369\n",
            "number4 : 123\n",
            "number5 : 456\n",
            "Enter name to add number: number6\n",
            "Enter new contact number: 789\n",
            "{'number1': '147', 'number2': '258', 'number3': '369', 'number4': '123', 'number5': '456', 'number6': '789'}\n",
            "Enter name to delete number: number4\n",
            "{'number1': '147', 'number2': '258', 'number3': '369', 'number5': '456', 'number6': '789'}\n",
            "Enter name to change number: number5\n",
            "Enter new number: 420\n",
            "{'number1': '147', 'number2': '258', 'number3': '369', 'number5': '420', 'number6': '789'}\n",
            "Check if friend is in dictionary: number2\n",
            "number2 is in Contacts\n",
            "number1 = 147\n",
            "number2 = 258\n",
            "number3 = 369\n",
            "number5 = 420\n",
            "number6 = 789\n"
          ],
          "name": "stdout"
        }
      ]
    },
    {
      "cell_type": "markdown",
      "metadata": {
        "id": "6zOgjASuVv1y"
      },
      "source": [
        "Task 8:\n",
        "Write a Python Program to Create a Dictionary with Key as First Character and Value as Words Starting with that Character.\n",
        "Example:\n",
        "Input:\n",
        "string: i love grapes guava watermelon pineapple pear mango\n",
        "Output: \n",
        "{'i': ['i'], 'l': ['love'], 'g': ['grapes', 'guava'], 'w': ['watermelon'], 'p': ['pineapple', 'pear'], 'm': ['mango']}\n"
      ]
    },
    {
      "cell_type": "code",
      "metadata": {
        "colab": {
          "base_uri": "https://localhost:8080/"
        },
        "id": "BG-nmrNRVxuF",
        "outputId": "da0a2d91-8386-4da3-8da4-a4bc98cd6d8b"
      },
      "source": [
        "sent = str(input('Enter sentence: '))\n",
        "words = sent.split(' ')\n",
        "res = dict()\n",
        "for i in words:\n",
        "    if i[0] in res.keys():\n",
        "        res[i[0]].append(i)\n",
        "    if i[0] not in res.keys():\n",
        "        res[i[0]] = [i]\n",
        "print(res)"
      ],
      "execution_count": null,
      "outputs": [
        {
          "output_type": "stream",
          "text": [
            "Enter sentence: Hello I am not a hello world person\n",
            "{'H': ['Hello'], 'I': ['I'], 'a': ['am', 'a'], 'n': ['not'], 'h': ['hello'], 'w': ['world'], 'p': ['person']}\n"
          ],
          "name": "stdout"
        }
      ]
    },
    {
      "cell_type": "markdown",
      "metadata": {
        "id": "lgRfmRxdXWti"
      },
      "source": [
        "Task 9:\n",
        "List of participants in events A and B\n",
        "A → John, Olive,Alfie,Oscar,Ella,William,Harry.\n",
        "B → Edward, Julia, Robert, Olive,Alfie,Ella.\n",
        "1.\tFind out which members attended both events.\n",
        "2.\tFind out which members attended only one of the events.\n",
        "3.\tReceive a list of all participants\n"
      ]
    },
    {
      "cell_type": "code",
      "metadata": {
        "colab": {
          "base_uri": "https://localhost:8080/"
        },
        "id": "Ze4QQAqOXYt6",
        "outputId": "d5276526-6449-4ecf-df95-4d98ba85fc7b"
      },
      "source": [
        "A = ['John','Olive','Alfie','Oscar','Ella','William','Harry']\n",
        "B = ['Edward', 'Julia', 'Robert', 'Olive','Alfie','Ella']\n",
        "res1 = list()\n",
        "res2 = list()\n",
        "res3 = list()\n",
        "for i in A:\n",
        "    if i in B:\n",
        "        res1.append(i)\n",
        "    if i not in B:\n",
        "        res2.append(i)\n",
        "res3 = A + B\n",
        "print(res1)\n",
        "print(res2)\n",
        "print(res3)"
      ],
      "execution_count": null,
      "outputs": [
        {
          "output_type": "stream",
          "text": [
            "['Olive', 'Alfie', 'Ella']\n",
            "['John', 'Oscar', 'William', 'Harry']\n",
            "['John', 'Olive', 'Alfie', 'Oscar', 'Ella', 'William', 'Harry', 'Edward', 'Julia', 'Robert', 'Olive', 'Alfie', 'Ella']\n"
          ],
          "name": "stdout"
        }
      ]
    },
    {
      "cell_type": "markdown",
      "metadata": {
        "id": "gzQEHkkxYraa"
      },
      "source": [
        "Task 10:\n",
        "S1 = {'purple', 'red', 'blue', 'black',pink,’yellow’,’orange’,’white’}\n",
        "S2= {'yellow', 'orange', 'black',’purple’,’pink’,’brown’}\n",
        "S3 ={'pink', 'purple',’orange’}\n",
        "10.1 Write a Python Program to Check if a set is a subset of another set.\n",
        "10.2 Write a Python program to  Check if sets are superset of each other.\n"
      ]
    },
    {
      "cell_type": "code",
      "metadata": {
        "colab": {
          "base_uri": "https://localhost:8080/"
        },
        "id": "hGKU143EYs7Q",
        "outputId": "226259a8-a518-42cc-d8d7-efc43868f5f1"
      },
      "source": [
        "S1 = {'purple', 'red', 'blue', 'black','pink','yellow','orange','white'}\n",
        "S2= {'yellow', 'orange', 'black','purple','pink','brown'}\n",
        "S3 ={'pink', 'purple','orange'}\n",
        "if S1.issubset(S2):\n",
        "    print(\"S1 is a subset of S2\")\n",
        "if S1.issubset(S3):\n",
        "    print(\"S1 is a subset of S3\")\n",
        "if S2.issubset(S1):\n",
        "    print(\"S2 is a subset of S1\")\n",
        "if S2.issubset(S3):\n",
        "    print(\"S2 is a subset of S3\")\n",
        "if S3.issubset(S1):\n",
        "    print(\"S3 is a subset of S1\")\n",
        "if S3.issubset(S2):\n",
        "    print(\"S3 is a subset of S2\")\n"
      ],
      "execution_count": null,
      "outputs": [
        {
          "output_type": "stream",
          "text": [
            "S3 is a subset of S1\n",
            "S3 is a subset of S2\n"
          ],
          "name": "stdout"
        }
      ]
    },
    {
      "cell_type": "code",
      "metadata": {
        "colab": {
          "base_uri": "https://localhost:8080/"
        },
        "id": "_gAxXDA-aux8",
        "outputId": "a251ca2b-eebd-4605-d7cb-be4e142503b6"
      },
      "source": [
        "S1 = {'purple', 'red', 'blue', 'black','pink','yellow','orange','white'}\n",
        "S2= {'yellow', 'orange', 'black','purple','pink','brown'}\n",
        "S3 ={'pink', 'purple','orange'}\n",
        "if S1.issuperset(S2):\n",
        "    print(\"S1 is a superset of S2\")\n",
        "if S1.issuperset(S3):\n",
        "    print(\"S1 is a superset of S3\")\n",
        "if S2.issuperset(S1):\n",
        "    print(\"S2 is a superset of S1\")\n",
        "if S2.issuperset(S3):\n",
        "    print(\"S2 is a superset of S3\")\n",
        "if S3.issuperset(S1):\n",
        "    print(\"S3 is a superset of S1\")\n",
        "if S3.issuperset(S2):\n",
        "    print(\"S3 is a superset of S2\")"
      ],
      "execution_count": null,
      "outputs": [
        {
          "output_type": "stream",
          "text": [
            "S1 is a superset of S3\n",
            "S2 is a superset of S3\n"
          ],
          "name": "stdout"
        }
      ]
    }
  ]
}