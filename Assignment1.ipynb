{
  "nbformat": 4,
  "nbformat_minor": 0,
  "metadata": {
    "colab": {
      "name": "Assignment1.ipynb",
      "provenance": [],
      "collapsed_sections": [],
      "include_colab_link": true
    },
    "kernelspec": {
      "name": "python3",
      "display_name": "Python 3"
    }
  },
  "cells": [
    {
      "cell_type": "markdown",
      "metadata": {
        "id": "view-in-github",
        "colab_type": "text"
      },
      "source": [
        "<a href=\"https://colab.research.google.com/github/HarshadShah3/Python-Programs/blob/main/Assignment1.ipynb\" target=\"_parent\"><img src=\"https://colab.research.google.com/assets/colab-badge.svg\" alt=\"Open In Colab\"/></a>"
      ]
    },
    {
      "cell_type": "markdown",
      "metadata": {
        "id": "1l2jKyVtPJB_"
      },
      "source": [
        "#**Assignment 1** \n"
      ]
    },
    {
      "cell_type": "markdown",
      "metadata": {
        "id": "PW7DolRgTJtb"
      },
      "source": [
        "Roll no. : I056\n",
        "\n",
        "Program: B.Tech CS-AI\n",
        "\n",
        "Semester: 2\n",
        "\n",
        "Name : Harshad Shah\n",
        "\n",
        "Division: I\n",
        "\n",
        "Batch: I2\n"
      ]
    },
    {
      "cell_type": "markdown",
      "metadata": {
        "id": "SoV0iJtiPSK-"
      },
      "source": [
        "### **Task 1:**"
      ]
    },
    {
      "cell_type": "code",
      "metadata": {
        "colab": {
          "base_uri": "https://localhost:8080/"
        },
        "id": "YtpKgSDqO9M_",
        "outputId": "0c530f34-b0c5-4824-a334-85d39f53c689"
      },
      "source": [
        "import math\n",
        "n = int(input(\"Enter a number: \"))\n",
        "r = math.sqrt(n)\n",
        "r = str(r)\n",
        "num = r.split(\".\")\n",
        "if int(num[1])>0:\n",
        "  print(\"It's not a perfect square\")\n",
        "else:\n",
        "  print(\"It's a perfect square\")"
      ],
      "execution_count": null,
      "outputs": [
        {
          "output_type": "stream",
          "text": [
            "Enter a number: 64\n",
            "It's a perfect square\n"
          ],
          "name": "stdout"
        }
      ]
    },
    {
      "cell_type": "markdown",
      "metadata": {
        "id": "r_w4POG5SAOu"
      },
      "source": [
        "### **Task 2:**"
      ]
    },
    {
      "cell_type": "code",
      "metadata": {
        "colab": {
          "base_uri": "https://localhost:8080/"
        },
        "id": "uk9_VhBtSDYZ",
        "outputId": "a145be5a-e4a9-4d05-af42-c460d1ad49cf"
      },
      "source": [
        "n = int(input(\"How many numbers: \"))\n",
        "l = []\n",
        "s = 0\n",
        "for x in range(0,n):\n",
        "  num = int(input())\n",
        "  s += num\n",
        "  l.append(s)\n",
        "print(l)"
      ],
      "execution_count": null,
      "outputs": [
        {
          "output_type": "stream",
          "text": [
            "How many numbers: 5\n",
            "4\n",
            "10\n",
            "15\n",
            "18\n",
            "20\n",
            "[4, 14, 29, 47, 67]\n"
          ],
          "name": "stdout"
        }
      ]
    },
    {
      "cell_type": "markdown",
      "metadata": {
        "id": "LwJTUsgFTRxd"
      },
      "source": [
        "### **Task 3:**"
      ]
    },
    {
      "cell_type": "code",
      "metadata": {
        "colab": {
          "base_uri": "https://localhost:8080/"
        },
        "id": "BuNTPWTyTTrK",
        "outputId": "9c1fc114-b8db-4b2f-d7f3-db0cb5b048dc"
      },
      "source": [
        "n = int(input(\"How many numbers: \"))\n",
        "l = []\n",
        "r = []\n",
        "for x in range(0,n):\n",
        "  num = int(input())\n",
        "  l.append(num)\n",
        "m = max(l)\n",
        "# Removing same values from list\n",
        "for x in l:\n",
        "  if x not in r:\n",
        "    r.append(x)\n",
        "r.remove(m)\n",
        "m2 = max(r)\n",
        "print(\"The second largest number\",m2)"
      ],
      "execution_count": null,
      "outputs": [
        {
          "output_type": "stream",
          "text": [
            "How many numbers: 5\n",
            "1\n",
            "2\n",
            "3\n",
            "4\n",
            "5\n",
            "The second largest number is 4\n"
          ],
          "name": "stdout"
        }
      ]
    },
    {
      "cell_type": "markdown",
      "metadata": {
        "id": "1c-BXp6iUi55"
      },
      "source": [
        "### **Task 4:**"
      ]
    },
    {
      "cell_type": "code",
      "metadata": {
        "colab": {
          "base_uri": "https://localhost:8080/"
        },
        "id": "UXVBs77gU3_u",
        "outputId": "25cc50e1-b9e1-4d4e-bd57-873a923c347b"
      },
      "source": [
        "l = []\n",
        "s = []\n",
        "r = []\n",
        "n = int(input(\"How many numbers: \"))\n",
        "for x in range(0,n):\n",
        "  num = int(input())\n",
        "  l.append(num)\n",
        "for x in l:\n",
        "  if x not in r:\n",
        "    r.append(x)\n",
        "  else:\n",
        "    if x not in s:\n",
        "      s.append(x)\n",
        "print(s)"
      ],
      "execution_count": null,
      "outputs": [
        {
          "output_type": "stream",
          "text": [
            "How many numbers: 4\n",
            "1\n",
            "2\n",
            "1\n",
            "2\n",
            "[1, 2]\n"
          ],
          "name": "stdout"
        }
      ]
    },
    {
      "cell_type": "markdown",
      "metadata": {
        "id": "RODmt52do-40"
      },
      "source": [
        "### **Task 5:**"
      ]
    },
    {
      "cell_type": "code",
      "metadata": {
        "colab": {
          "base_uri": "https://localhost:8080/"
        },
        "id": "hVSOA5o5pPzD",
        "outputId": "bfa657bf-892c-4690-d158-d831200938c7"
      },
      "source": [
        "# Without Slicing\n",
        "s = input(\"Enter string: \")\n",
        "r = \"\"\n",
        "for x in range(len(s)-1,-1,-1):\n",
        "  r += s[x]\n",
        "if r == s:\n",
        "  print(\"It's a palindrome\")\n",
        "else:\n",
        "  print(\"It's not a palindrome\")\n",
        "\n",
        "\n",
        "# With Slicing\n",
        "s = input(\"Enter string: \")\n",
        "r = s[::-1]\n",
        "if r == s:\n",
        "  print(\"It's a palindrome\")\n",
        "else:\n",
        "  print(\"It's not a palindrome\")"
      ],
      "execution_count": null,
      "outputs": [
        {
          "output_type": "stream",
          "text": [
            "Enter string: ababa\n",
            "It's a palindrome\n",
            "Enter string: ababa\n",
            "It's a palindrome\n"
          ],
          "name": "stdout"
        }
      ]
    },
    {
      "cell_type": "markdown",
      "metadata": {
        "id": "cGDuS0SIthy7"
      },
      "source": [
        "### **Task 6:**"
      ]
    },
    {
      "cell_type": "code",
      "metadata": {
        "colab": {
          "base_uri": "https://localhost:8080/"
        },
        "id": "ZRibhVEFva3d",
        "outputId": "55b23bab-fa8b-4561-93d6-36a48dbd50a0"
      },
      "source": [
        "string = input(\"Enter a sentence: \")\n",
        "w = string.split(\" \")\n",
        "w.reverse()\n",
        "r = \"\"\n",
        "for x in w:\n",
        "  r += x\n",
        "  r += \" \"\n",
        "print(r)"
      ],
      "execution_count": null,
      "outputs": [
        {
          "output_type": "stream",
          "text": [
            "Enter a sentence: look before you leap\n",
            "leap you before look \n"
          ],
          "name": "stdout"
        }
      ]
    },
    {
      "cell_type": "markdown",
      "metadata": {
        "id": "PwJ4ug9bwgLY"
      },
      "source": [
        "### **Task 7:**"
      ]
    },
    {
      "cell_type": "code",
      "metadata": {
        "colab": {
          "base_uri": "https://localhost:8080/"
        },
        "id": "Rb30XwdFwn8A",
        "outputId": "a5acf7de-c695-4baf-fa58-01444ffa8c79"
      },
      "source": [
        "n = int(input(\"Enter a number: \"))\n",
        "f = []\n",
        "p = []\n",
        "flag = 0\n",
        "for i in range(1,n):\n",
        "  if n%i == 0:\n",
        "    f.append(i)\n",
        "for x in f:\n",
        "  for i in range(1,11):\n",
        "    if x%i==0:\n",
        "      flag += 1\n",
        "  if flag == 2:\n",
        "    p.append(x)\n",
        "  flag = 0\n",
        "m = max(p)\n",
        "print(m)"
      ],
      "execution_count": null,
      "outputs": [
        {
          "output_type": "stream",
          "text": [
            "Enter a number: 20\n",
            "5\n"
          ],
          "name": "stdout"
        }
      ]
    },
    {
      "cell_type": "markdown",
      "metadata": {
        "id": "QHiCNPMDyqTz"
      },
      "source": [
        "### **Task 8:**"
      ]
    },
    {
      "cell_type": "code",
      "metadata": {
        "colab": {
          "base_uri": "https://localhost:8080/"
        },
        "id": "4ERniygTyrkF",
        "outputId": "52560ea3-0803-48fc-ef18-ce40a99ee66b"
      },
      "source": [
        "n = int(input(\"Enter a number: \"))\n",
        "sum = 0\n",
        "for x in range(1,n+1):\n",
        "  if n%x == 0:\n",
        "    if x%2 != 0:\n",
        "      sum += x\n",
        "print(sum)"
      ],
      "execution_count": null,
      "outputs": [
        {
          "output_type": "stream",
          "text": [
            "Enter a number: 20\n",
            "6\n"
          ],
          "name": "stdout"
        }
      ]
    },
    {
      "cell_type": "markdown",
      "metadata": {
        "id": "aBv2A6fazubG"
      },
      "source": [
        "### **Task 9:**"
      ]
    },
    {
      "cell_type": "code",
      "metadata": {
        "colab": {
          "base_uri": "https://localhost:8080/"
        },
        "id": "rqk1u-fIzxOD",
        "outputId": "4283370f-79c5-448b-b477-64b9524c5452"
      },
      "source": [
        "string = input(\"Enter a sentence: \")\n",
        "w = string.split(\" \")\n",
        "w[-1] = \"Interesting\"\n",
        "s = \"\"\n",
        "for x in w:\n",
        "  s += x\n",
        "  s += \" \"\n",
        "print(s)"
      ],
      "execution_count": null,
      "outputs": [
        {
          "output_type": "stream",
          "text": [
            "Enter a sentence: Python is Good\n",
            "Python is Interesting \n"
          ],
          "name": "stdout"
        }
      ]
    },
    {
      "cell_type": "markdown",
      "metadata": {
        "id": "lnJz16Rc1enh"
      },
      "source": [
        "### **Task 10:**"
      ]
    },
    {
      "cell_type": "code",
      "metadata": {
        "colab": {
          "base_uri": "https://localhost:8080/",
          "height": 0
        },
        "id": "Lek77vQXDD9r",
        "outputId": "7d149bbc-8f64-40b5-85a8-c55d1ba48d25"
      },
      "source": [
        "# Using regex\n",
        "import re\n",
        "\n",
        "password = input(\"Enter your password: \")\n",
        "flag = 1\n",
        "while flag:\n",
        "  if not re.search(\"[a-zA-Z]\",password):\n",
        "    break\n",
        "  if not re.search(\"[0-9]\",password):\n",
        "    break\n",
        "  if not re.search(\"[$#@]\",password):\n",
        "    break\n",
        "  \n",
        "\n",
        "  else:\n",
        "    if len(password)>=6 and len(password)<=16:\n",
        "      print(\"Valid\")\n",
        "      flag = 0\n",
        "    else:\n",
        "      break\n",
        " \n",
        "if flag:\n",
        "   print(\"Invalid Password\")\n",
        "\n",
        "\n",
        "# Not using regex\n",
        "password = input(\"Enter your password: \")\n",
        "check = 0\n",
        "for x in password:\n",
        "  if x.islower():\n",
        "    check += 1\n",
        "    break\n",
        "for x in password:\n",
        "  if x.isupper():\n",
        "    check += 1\n",
        "    break\n",
        "for x in password:\n",
        "  if ord(x) in range(48,58):\n",
        "    check += 1\n",
        "    break\n",
        "for x in password:\n",
        "  if x in ['$','@','#']:\n",
        "    check += 1\n",
        "    break\n",
        "if len(password)>=6 and len(password)<=16:\n",
        "  check += 1\n",
        "if check == 5:\n",
        "  print(\"Valid\")\n",
        "else:\n",
        "  print(\"Invalid\")\n"
      ],
      "execution_count": 2,
      "outputs": [
        {
          "output_type": "stream",
          "text": [
            "Enter your password: abcd@1234\n",
            "Valid\n",
            "Enter your password: hello@1234\n",
            "Invalid\n"
          ],
          "name": "stdout"
        }
      ]
    }
  ]
}