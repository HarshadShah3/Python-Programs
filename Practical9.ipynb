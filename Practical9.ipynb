{
  "nbformat": 4,
  "nbformat_minor": 0,
  "metadata": {
    "colab": {
      "name": "Practical9.ipynb",
      "provenance": [],
      "collapsed_sections": [],
      "include_colab_link": true
    },
    "kernelspec": {
      "name": "python3",
      "display_name": "Python 3"
    },
    "language_info": {
      "name": "python"
    }
  },
  "cells": [
    {
      "cell_type": "markdown",
      "metadata": {
        "id": "view-in-github",
        "colab_type": "text"
      },
      "source": [
        "<a href=\"https://colab.research.google.com/github/HarshadShah3/Python-Programs/blob/main/Practical9.ipynb\" target=\"_parent\"><img src=\"https://colab.research.google.com/assets/colab-badge.svg\" alt=\"Open In Colab\"/></a>"
      ]
    },
    {
      "cell_type": "markdown",
      "metadata": {
        "id": "G5wTlGQAVWCR"
      },
      "source": [
        "Roll No: I056\n",
        "\n",
        "Name: Harshad Shah\n",
        "\n",
        "Program: B.Tech AI"
      ]
    },
    {
      "cell_type": "markdown",
      "metadata": {
        "id": "wYQHcs3GVd0Z"
      },
      "source": [
        "#Task 1\n",
        "Write a program  to convert camel case string to snake case.\n",
        "* Input: IntroductionToPythonProgramming\n",
        "* Output: introduction_to_python_programming"
      ]
    },
    {
      "cell_type": "code",
      "metadata": {
        "colab": {
          "base_uri": "https://localhost:8080/"
        },
        "id": "NZQzbOVMjREv",
        "outputId": "6f7736b9-3bd4-42b2-c4a8-1a9504e4ed61"
      },
      "source": [
        "Str1= input('String: ')\n",
        "Str2= [Str1[0].lower()]\n",
        "for i in Str1[1:]:\n",
        "    if i.isupper():\n",
        "        Str2.append('_')\n",
        "    Str2.append(i.lower())\n",
        "print(''.join(Str2))"
      ],
      "execution_count": null,
      "outputs": [
        {
          "output_type": "stream",
          "text": [
            "String: IntroductionToPythonProgramming\n",
            "introduction_to_python_programming\n"
          ],
          "name": "stdout"
        }
      ]
    },
    {
      "cell_type": "markdown",
      "metadata": {
        "id": "g_swNcN4HUTJ"
      },
      "source": [
        "#Task 2\n",
        "Write a program to delete consonants from the string and print the new string.\n",
        "* Input: Python Programming\n",
        "* Output: o oai"
      ]
    },
    {
      "cell_type": "code",
      "metadata": {
        "colab": {
          "base_uri": "https://localhost:8080/"
        },
        "id": "DPFD3GEWHn32",
        "outputId": "8831af09-2f25-4d03-e0bb-da5930ca60d9"
      },
      "source": [
        "Str1, Str2= input('String: '), ''\n",
        "for i in Str1:\n",
        "    if i.lower() == 'a' or i.lower() == 'e':\n",
        "        Str2+= i\n",
        "    if i.lower() == 'i' or i.lower() == 'o':\n",
        "      \n",
        "        Str2+= i\n",
        "    if i.lower() == 'u' or i.lower() == ' ':\n",
        "        Str2+= i\n",
        "print(Str2)"
      ],
      "execution_count": null,
      "outputs": [
        {
          "output_type": "stream",
          "text": [
            "String: Python Programming\n",
            "o oai\n"
          ],
          "name": "stdout"
        }
      ]
    },
    {
      "cell_type": "markdown",
      "metadata": {
        "id": "ziqrrPOwJxM3"
      },
      "source": [
        "#Task 3\n",
        "1. Write a program to convert  numbers to numeric words.\n",
        "* Input: 54320\n",
        "* Output: five four three two zero\n",
        "2. Write a program to convert numeric words to numbers\n",
        "* Input: five four three two zero\n",
        "* Output: 5 4 3 2 0"
      ]
    },
    {
      "cell_type": "code",
      "metadata": {
        "colab": {
          "base_uri": "https://localhost:8080/"
        },
        "id": "vSZ4XTrpJ508",
        "outputId": "ebab2b32-104b-4ffc-acfe-408c70cf7ea8"
      },
      "source": [
        "#1\n",
        "def Words(Num):\n",
        "    Str= ''\n",
        "    for i in Num:\n",
        "        if i == '0':\n",
        "            Str+= 'zero '\n",
        "        if i == '1':\n",
        "            Str+= 'one '\n",
        "        if i == '2':\n",
        "            Str+= 'two '\n",
        "        if i == '3':\n",
        "            Str+= 'three '\n",
        "        if i == '4':\n",
        "            Str+= 'four '\n",
        "        if i == '5':\n",
        "            Str+= 'five '\n",
        "        if i == '6':\n",
        "            Str+= 'six '\n",
        "        if i == '7':\n",
        "            Str+= 'seven '\n",
        "        if i == '8':\n",
        "            Str+= 'eight '\n",
        "        if i == '9':\n",
        "            Str+= 'nine '\n",
        "    return Str\n",
        "#2\n",
        "def Nums(Nu):\n",
        "    Num= Nu.split()\n",
        "    Str= ''\n",
        "    for i in Num:\n",
        "        if i == 'zero':\n",
        "            Str+= '0'\n",
        "        if i == 'one':\n",
        "            Str+= '1 '\n",
        "        if i == 'two':\n",
        "            Str+= '2 '\n",
        "        if i == 'three':\n",
        "            Str+= '3 '\n",
        "        if i == 'four':\n",
        "            Str+= '4 '\n",
        "        if i == 'five':\n",
        "            Str+= '5 '\n",
        "        if i == 'six':\n",
        "            Str+= '6 '\n",
        "        if i == 'seven':\n",
        "            Str+= '7 '\n",
        "        if i == 'eight':\n",
        "            Str+= '8 '\n",
        "        if i == 'nine':\n",
        "            Str+= '9 '\n",
        "    return Str\n",
        "print(Words(input('Number: ')))\n",
        "print(Nums(input('Words: ')))"
      ],
      "execution_count": null,
      "outputs": [
        {
          "output_type": "stream",
          "text": [
            "Number: 54320\n",
            "five four three two zero \n",
            "Words: five four three two zero\n",
            "5 4 3 2 0\n"
          ],
          "name": "stdout"
        }
      ]
    },
    {
      "cell_type": "markdown",
      "metadata": {
        "id": "kfevJSR6OJjm"
      },
      "source": [
        "#Task 4\n",
        "Write a Python program to remove punctuation from a user given string.\n",
        "* Input: Oh God! It's so hot in here!\n",
        "* Output: Oh God Its so hot in here"
      ]
    },
    {
      "cell_type": "code",
      "metadata": {
        "colab": {
          "base_uri": "https://localhost:8080/"
        },
        "id": "x1aUm6BSO4-g",
        "outputId": "98446821-9392-4ab3-d389-bcc6011b4cb0"
      },
      "source": [
        "Str= list(input('String: '))\n",
        "for i in Str:\n",
        "    if i in ['!', '\\'', '\\\"', ';', ':', ',', '-', '_']:\n",
        "        Str.remove(i)\n",
        "print(''.join(Str))"
      ],
      "execution_count": null,
      "outputs": [
        {
          "output_type": "stream",
          "text": [
            "String: Oh God! It's so hot in here!\n",
            "Oh God Its so hot in here\n"
          ],
          "name": "stdout"
        }
      ]
    },
    {
      "cell_type": "markdown",
      "metadata": {
        "id": "WNzMm8-jS9ES"
      },
      "source": [
        "#Task 5\n",
        "Write a Python program to remove a character at ‘k’ th index and print the string.\n",
        "* Input: Hello! Goood Morning, k=8\n",
        "* Output: Hello! Good Morning"
      ]
    },
    {
      "cell_type": "code",
      "metadata": {
        "colab": {
          "base_uri": "https://localhost:8080/"
        },
        "id": "2CdXWXGFTBmg",
        "outputId": "d7676273-de74-4190-b394-da7133f571cd"
      },
      "source": [
        "Str, K= list(input('String: ')), int(input('K= '))\n",
        "del Str[K]\n",
        "print(''.join(Str))"
      ],
      "execution_count": null,
      "outputs": [
        {
          "output_type": "stream",
          "text": [
            "String: Hello! Goood Morning\n",
            "K= 8\n",
            "Hello! Good Morning\n"
          ],
          "name": "stdout"
        }
      ]
    },
    {
      "cell_type": "markdown",
      "metadata": {
        "id": "iei_9osEUsE1"
      },
      "source": [
        "#Task 6\n",
        "Write a Python to  arrange string characters such that all lowercase letters should be printed first.\n",
        "* Input: ABCDefghIGKLmnopQRSTuvwxYZ\n",
        "* Output: efghmnopuvwxABCDIGKLQRSTYZ"
      ]
    },
    {
      "cell_type": "code",
      "metadata": {
        "colab": {
          "base_uri": "https://localhost:8080/"
        },
        "id": "i8ej3C-9U0VD",
        "outputId": "e91be6b4-9a20-4989-d19d-50ae4b9ea902"
      },
      "source": [
        "Str= list(input('String: '))\n",
        "for i in range(len(Str)- 1):\n",
        "    for j in range(0, len(Str)- i- 1):\n",
        "        if Str[j].isupper():\n",
        "            Str[j], Str[j+ 1]= Str[j+ 1], Str[j]\n",
        "print(''.join(Str))"
      ],
      "execution_count": null,
      "outputs": [
        {
          "output_type": "stream",
          "text": [
            "String: ABCDefghIGKLmnopQRSTuvwxYZ\n",
            "efghmnopuvwxZYTSRQLKGIDCBA\n"
          ],
          "name": "stdout"
        }
      ]
    },
    {
      "cell_type": "markdown",
      "metadata": {
        "id": "RK5DzS9gaSb8"
      },
      "source": [
        "#Task 7\n",
        "Write a Python Program to create a mixed String using the s1 and s2.\n",
        "Print first char of s1 then the last char of s2, Next, the second char of s1 and second last char of s2, and so on. Any leftover characters should be printed at the last."
      ]
    },
    {
      "cell_type": "code",
      "metadata": {
        "id": "vuJwmJgxaY97",
        "colab": {
          "base_uri": "https://localhost:8080/"
        },
        "outputId": "be1f13c6-2d07-4b8f-8f6b-78e125110958"
      },
      "source": [
        "S1, S2= list(input('S1: ')), list(input('S2: '))\n",
        "S, MinLen= [], min(len(S1), len(S2))\n",
        "for i in range(MinLen):\n",
        "    S.append(S1[i])\n",
        "    S.append(S2[len(S2)- i- 1])\n",
        "if len(S1)> len(S2):\n",
        "    for j in range(MinLen, len(S1)):\n",
        "        S.append(S1[j])\n",
        "if len(S2)> len(S1):\n",
        "    for j in range(len(S2)- MinLen- 1, -1, -1):\n",
        "        S.append(S2[j])\n",
        "print(''.join(S))"
      ],
      "execution_count": null,
      "outputs": [
        {
          "output_type": "stream",
          "text": [
            "S1: abcd\n",
            "S2: wxyzef\n",
            "afbeczdyxw\n"
          ],
          "name": "stdout"
        }
      ]
    }
  ]
}