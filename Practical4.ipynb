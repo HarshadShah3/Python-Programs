{
  "nbformat": 4,
  "nbformat_minor": 0,
  "metadata": {
    "colab": {
      "name": "Practical4.ipynb",
      "provenance": [],
      "collapsed_sections": [],
      "include_colab_link": true
    },
    "kernelspec": {
      "name": "python3",
      "display_name": "Python 3"
    }
  },
  "cells": [
    {
      "cell_type": "markdown",
      "metadata": {
        "id": "view-in-github",
        "colab_type": "text"
      },
      "source": [
        "<a href=\"https://colab.research.google.com/github/HarshadShah3/Python-Programs/blob/main/Practical4.ipynb\" target=\"_parent\"><img src=\"https://colab.research.google.com/assets/colab-badge.svg\" alt=\"Open In Colab\"/></a>"
      ]
    },
    {
      "cell_type": "markdown",
      "metadata": {
        "id": "4NpzUHgd27-c"
      },
      "source": [
        "Roll no. : I056\r\n",
        "\r\n",
        "Program: B.Tech CS-AI\r\n",
        "\r\n",
        "Semester: 2\r\n",
        "\r\n",
        "Date of Experiment: 08/03/2021\r\n",
        "\r\n",
        "Name : Harshad Shah\r\n",
        "\r\n",
        "Division: I\r\n",
        "\r\n",
        "Batch: I2\r\n"
      ]
    },
    {
      "cell_type": "markdown",
      "metadata": {
        "id": "itk3e_WlBN1-"
      },
      "source": [
        "Task 1:  \r\n",
        "Write a Python program to display all the prime numbers between any two numbers taken from the user.\r\n"
      ]
    },
    {
      "cell_type": "code",
      "metadata": {
        "colab": {
          "base_uri": "https://localhost:8080/"
        },
        "id": "0n38gRXUBLVm",
        "outputId": "bebcc7b0-489c-488c-a05d-b2b2c7d52c2e"
      },
      "source": [
        "n1 = int(input('Enter first number: '))\r\n",
        "n2 = int(input('Enter second number: '))\r\n",
        "c = int(0)\r\n",
        "for i in range(n1,n2):\r\n",
        "  c=0\r\n",
        "  for t in range(1,i):\r\n",
        "    if i%t==0:\r\n",
        "      c+=1\r\n",
        "  if c==1:\r\n",
        "    print(i)\r\n",
        "    \r\n"
      ],
      "execution_count": null,
      "outputs": [
        {
          "output_type": "stream",
          "text": [
            "Enter first number: 1\n",
            "Enter second number: 10\n",
            "2\n",
            "3\n",
            "5\n",
            "7\n"
          ],
          "name": "stdout"
        }
      ]
    },
    {
      "cell_type": "markdown",
      "metadata": {
        "id": "6Jpy2GrbCdDg"
      },
      "source": [
        "Task 2:  \r\n",
        "Write a program to check whether a user-entered number is a Perfect Number.\r\n"
      ]
    },
    {
      "cell_type": "code",
      "metadata": {
        "colab": {
          "base_uri": "https://localhost:8080/"
        },
        "id": "tbV3xd6MClTf",
        "outputId": "0ea90724-5519-4d48-a29b-d16507e6e05e"
      },
      "source": [
        "n = int(input('Enter number: '))\r\n",
        "div = list()\r\n",
        "sum = int(0)\r\n",
        "for t in range(1,n):\r\n",
        "  if n%t==0:\r\n",
        "    div.append(t)\r\n",
        "for i in div:\r\n",
        "  sum+=i\r\n",
        "if sum==n:\r\n",
        "  print('Perfect')"
      ],
      "execution_count": null,
      "outputs": [
        {
          "output_type": "stream",
          "text": [
            "Enter number: 6\n",
            "Perfect\n"
          ],
          "name": "stdout"
        }
      ]
    },
    {
      "cell_type": "markdown",
      "metadata": {
        "id": "uteBOWcBDTP8"
      },
      "source": [
        "Task 3: \r\n",
        "Write a program that generates a random number (0-10) and ask the user to guess it. The user will have three asserts.\r\n",
        "If they guess correctly, print 'You win!' else ‘You Lose!’\r\n"
      ]
    },
    {
      "cell_type": "code",
      "metadata": {
        "colab": {
          "base_uri": "https://localhost:8080/"
        },
        "id": "1VC_1Z2WDViZ",
        "outputId": "744c8d6c-492d-4856-fb82-812cffcc8166"
      },
      "source": [
        "import random\r\n",
        "ran = random.randint(0,10)\r\n",
        "for _ in range(3):\r\n",
        "  i = int(input('Try your guess: '))\r\n",
        "  if i==ran:\r\n",
        "    print('You win!')\r\n",
        "    break\r\n",
        "  if _==2:\r\n",
        "    print('You lose!')"
      ],
      "execution_count": null,
      "outputs": [
        {
          "output_type": "stream",
          "text": [
            "Try your guess: 5\n",
            "Try your guess: 1\n",
            "Try your guess: 9\n",
            "You lose!\n"
          ],
          "name": "stdout"
        }
      ]
    },
    {
      "cell_type": "markdown",
      "metadata": {
        "id": "svyBza3CEQHz"
      },
      "source": [
        "Task 4:  \r\n",
        "Accept two strings 'string1' and 'string2' as an input from the user. Generate a resultant string, such that it is a concatenated string of all upper case alphabets from both the strings in the order they appear. Print the actual and the resultant strings.\r\n",
        "Note: Each character should be checked if it is an upper case alphabet and then it should be concatenated to the resultant string.\r\n",
        "Sample Input: string1: Alan likes Java\r\n",
        "                        string2: Mary Likes Python\r\n",
        "Output: AJMLP\r\n"
      ]
    },
    {
      "cell_type": "code",
      "metadata": {
        "colab": {
          "base_uri": "https://localhost:8080/"
        },
        "id": "-4sQBMYjESpP",
        "outputId": "eb19827f-e89d-416b-cf84-972d341f5365"
      },
      "source": [
        "string1 = str(input('Enter first string: '))\r\n",
        "string2 = str(input('Enter second string: '))\r\n",
        "res = str()\r\n",
        "for i in string1:\r\n",
        "  if i.isupper():\r\n",
        "    res=res+i\r\n",
        "for i in string2:\r\n",
        "  if i.isupper():\r\n",
        "    res=res+i\r\n",
        "print(res)"
      ],
      "execution_count": null,
      "outputs": [
        {
          "output_type": "stream",
          "text": [
            "Enter first string: ABCdef\n",
            "Enter second string: DEFghi\n",
            "ABCDEF\n"
          ],
          "name": "stdout"
        }
      ]
    },
    {
      "cell_type": "markdown",
      "metadata": {
        "id": "8gKyUKPZE4ih"
      },
      "source": [
        "Task 5 : \r\n",
        "Given a string containing both upper and lower case alphabets. Write a Python program to count the number of occurrences of each alphabet (case insensitive) and display the same.\r\n",
        "Sample Input: ABaBCbGc\r\n",
        "Sample Output:2A 3B 2C 1G\r\n"
      ]
    },
    {
      "cell_type": "code",
      "metadata": {
        "colab": {
          "base_uri": "https://localhost:8080/"
        },
        "id": "u-n8B7OdE7V2",
        "outputId": "e070c14e-6bb2-47dd-e6fb-1653358c19ff"
      },
      "source": [
        "string = str(input('Enter string: '))\r\n",
        "t = string.lower()\r\n",
        "l = list(t)\r\n",
        "print(l)\r\n",
        "charlist = list()\r\n",
        "[charlist.append(x) for x in t if x not in charlist]\r\n",
        "print(charlist)\r\n",
        "for a in charlist:\r\n",
        "  c = int(0)\r\n",
        "  for b in t:\r\n",
        "    if a==b:\r\n",
        "      c+=1\r\n",
        "  print(f'{c}{a.upper()}', end=' ')\r\n",
        "      \r\n",
        "\r\n"
      ],
      "execution_count": null,
      "outputs": [
        {
          "output_type": "stream",
          "text": [
            "Enter string: abcdDde\n",
            "['a', 'b', 'c', 'd', 'd', 'd', 'e']\n",
            "['a', 'b', 'c', 'd', 'e']\n",
            "1A 1B 1C 3D 1E "
          ],
          "name": "stdout"
        }
      ]
    },
    {
      "cell_type": "markdown",
      "metadata": {
        "id": "Efk50BhTH_a7"
      },
      "source": [
        "Task 6 : \r\n",
        "Write a Python program to construct the following pattern\r\n",
        "\r\n",
        "1 \r\n",
        "2 3 \r\n",
        "4 5 6 \r\n",
        "7 8 9 10 \r\n"
      ]
    },
    {
      "cell_type": "code",
      "metadata": {
        "colab": {
          "base_uri": "https://localhost:8080/"
        },
        "id": "fOf7FnmdICB4",
        "outputId": "b255e2eb-e39d-4de2-c945-ce9021fb8ec7"
      },
      "source": [
        "c = int(1)\r\n",
        "for i in range(5):\r\n",
        "  for j in range(i):\r\n",
        "    print(c, end=' ')\r\n",
        "    c+=1\r\n",
        "  print()\r\n"
      ],
      "execution_count": null,
      "outputs": [
        {
          "output_type": "stream",
          "text": [
            "\n",
            "1 \n",
            "2 3 \n",
            "4 5 6 \n",
            "7 8 9 10 \n"
          ],
          "name": "stdout"
        }
      ]
    },
    {
      "cell_type": "markdown",
      "metadata": {
        "id": "iuSvI5C8JAZY"
      },
      "source": [
        "Task 7:\r\n",
        "Write a Python program to construct the following pattern\r\n",
        "* \r\n",
        "* * \r\n",
        "* * * \r\n",
        "* * * * \r\n",
        "* * * * * \r\n",
        "* * * * \r\n",
        "* * * \r\n",
        "* * \r\n",
        "* \r\n"
      ]
    },
    {
      "cell_type": "code",
      "metadata": {
        "colab": {
          "base_uri": "https://localhost:8080/"
        },
        "id": "lKEuDxCiJFJE",
        "outputId": "c3c44166-da2c-4223-9e10-5b0f61e27e85"
      },
      "source": [
        "for i in range(6):\r\n",
        "  for j in range(i):\r\n",
        "    print('*', end='')\r\n",
        "  print()\r\n",
        "for i in range(4,0, -1):\r\n",
        "  for j in range(i):\r\n",
        "    print('*', end='')\r\n",
        "  print()\r\n"
      ],
      "execution_count": null,
      "outputs": [
        {
          "output_type": "stream",
          "text": [
            "\n",
            "*\n",
            "**\n",
            "***\n",
            "****\n",
            "*****\n",
            "****\n",
            "***\n",
            "**\n",
            "*\n"
          ],
          "name": "stdout"
        }
      ]
    },
    {
      "cell_type": "markdown",
      "metadata": {
        "id": "-luC7dd0JoAr"
      },
      "source": [
        "Task 8:\r\n",
        "Write a Python program to construct the following pattern\r\n",
        "\r\n",
        " ***** \r\n",
        " *     \r\n",
        " *     \r\n",
        " ****  \r\n",
        " *     \r\n",
        " *     \r\n",
        " ***** \r\n"
      ]
    },
    {
      "cell_type": "code",
      "metadata": {
        "colab": {
          "base_uri": "https://localhost:8080/"
        },
        "id": "Ztq_0sbZJwpQ",
        "outputId": "aae8363b-5c05-4cb1-bfaf-5f2d58871e5a"
      },
      "source": [
        "for i in range(7):\r\n",
        "  if i == 0 or i == 6:\r\n",
        "    for j in range(5):\r\n",
        "      print('*', end='')\r\n",
        "  elif i == 3:\r\n",
        "    for j in range(4):\r\n",
        "      print('*', end='')\r\n",
        "  else:\r\n",
        "    print('*', end='')\r\n",
        "  print()"
      ],
      "execution_count": null,
      "outputs": [
        {
          "output_type": "stream",
          "text": [
            "*****\n",
            "*\n",
            "*\n",
            "****\n",
            "*\n",
            "*\n",
            "*****\n"
          ],
          "name": "stdout"
        }
      ]
    },
    {
      "cell_type": "markdown",
      "metadata": {
        "id": "JzjW2yCcKjSF"
      },
      "source": [
        "Task 9:\r\n",
        "Write a Python program to construct the following pattern\r\n",
        "\r\n",
        "1 \r\n",
        "3 3 \r\n",
        "5 5 5 \r\n",
        "7 7 7 7 \r\n",
        "9 9 9 9 9\r\n"
      ]
    },
    {
      "cell_type": "code",
      "metadata": {
        "colab": {
          "base_uri": "https://localhost:8080/"
        },
        "id": "pR-12OUjKoL3",
        "outputId": "af8ccee8-3029-4f0f-ae42-4e72af2c60e0"
      },
      "source": [
        "c = int(1)\r\n",
        "for i in range(5):\r\n",
        "  for j in range(i+1):\r\n",
        "    print(c, end=' ')\r\n",
        "  c+=2\r\n",
        "  print()"
      ],
      "execution_count": null,
      "outputs": [
        {
          "output_type": "stream",
          "text": [
            "1 \n",
            "3 3 \n",
            "5 5 5 \n",
            "7 7 7 7 \n",
            "9 9 9 9 9 \n"
          ],
          "name": "stdout"
        }
      ]
    },
    {
      "cell_type": "markdown",
      "metadata": {
        "id": "UWtD6a4cLN0y"
      },
      "source": [
        "Task 10:\r\n",
        "Write a Python program to construct the following pattern\r\n",
        "\r\n",
        "  *  \r\n",
        " *** \r\n",
        "*****\r\n",
        " *** \r\n",
        "  *  \r\n"
      ]
    },
    {
      "cell_type": "code",
      "metadata": {
        "colab": {
          "base_uri": "https://localhost:8080/"
        },
        "id": "VkfkMQOjLPoH",
        "outputId": "50fb33a8-cff5-4f5c-a62b-d3f8dbe7e457"
      },
      "source": [
        "c = int(1)\r\n",
        "for i in range(3):\r\n",
        "  t = 3 - (i+1)\r\n",
        "  if t!=0:\r\n",
        "    for j in range(t):\r\n",
        "      print(' ', end='')\r\n",
        "    for j in range(c):\r\n",
        "      print('*', end='')\r\n",
        "    for j in range(t):\r\n",
        "      print(' ', end='')\r\n",
        "    c+=2\r\n",
        "  elif t==0:\r\n",
        "    for j in range(c):\r\n",
        "      print('*', end='')\r\n",
        "  print()\r\n",
        "c-=2\r\n",
        "for i in range(3,0,-1):\r\n",
        "  t = 3-(i-1)\r\n",
        "  if t!=0:\r\n",
        "    for j in range(t):\r\n",
        "      print(' ', end='')\r\n",
        "    for j in range(c):\r\n",
        "      print('*', end='')\r\n",
        "    for j in range(t):\r\n",
        "      print(' ', end='')\r\n",
        "    c-=2\r\n",
        "  elif t==0:\r\n",
        "    for j in range(c):\r\n",
        "      print('*', end='')\r\n",
        "  print()\r\n"
      ],
      "execution_count": null,
      "outputs": [
        {
          "output_type": "stream",
          "text": [
            "  *  \n",
            " *** \n",
            "*****\n",
            " *** \n",
            "  *  \n",
            "      \n"
          ],
          "name": "stdout"
        }
      ]
    },
    {
      "cell_type": "markdown",
      "metadata": {
        "id": "iqZleHO4Qj1s"
      },
      "source": [
        "Task 11: \r\n",
        "Write a program to take integers from the user in a list. Removes elements of the list that are the same and retain \r\n",
        "Input: ([1,1,2,2])\r\n",
        "Expected Output : [1,2].\r\n"
      ]
    },
    {
      "cell_type": "code",
      "metadata": {
        "colab": {
          "base_uri": "https://localhost:8080/"
        },
        "id": "Y5q235YyQlQY",
        "outputId": "638ed405-9610-41f9-bb69-19f30cea682c"
      },
      "source": [
        "n = int(input('Enter number of elements: '))\r\n",
        "l = list()\r\n",
        "for i in range(n):\r\n",
        "  l.append(int(input('Enter element:')))\r\n",
        "ans = list()\r\n",
        "[ans.append(t) for t in l if t not in ans]\r\n",
        "print(ans)"
      ],
      "execution_count": null,
      "outputs": [
        {
          "output_type": "stream",
          "text": [
            "Enter number of elements: 3\n",
            "Enter element:1\n",
            "Enter element:3\n",
            "Enter element:3\n",
            "[1, 3]\n"
          ],
          "name": "stdout"
        }
      ]
    },
    {
      "cell_type": "markdown",
      "metadata": {
        "id": "RNKvDZySQ1Mk"
      },
      "source": [
        "Task 12:\r\n",
        "Write a program to get the next day of a given date.(Also consider leap year)\r\n",
        "Expected Output: Given date: 25-02-2021 then next day is 26-02-2021.\r\n"
      ]
    },
    {
      "cell_type": "code",
      "metadata": {
        "id": "YOXW1LPpQ2k3"
      },
      "source": [
        "date=input(\"Enter date in DD-MM-YYYY: \")\r\n",
        "d, m, y=date.split(\"-\")\r\n",
        "leap=False\r\n",
        "days=[31,28,31,30,31,30,31,31,30,31,30,31]\r\n",
        "year=int(y)\r\n",
        "month=int(m)\r\n",
        "day=int(d)\r\n",
        "if year%4 ==0:\r\n",
        "  leap=True\r\n",
        "  if year%100 ==0:\r\n",
        "    leap=False\r\n",
        "    if year%400 == 0:\r\n",
        "      leap=True   \r\n",
        "if leap is True:days[1]=29 \r\n",
        "if day < days[month-1]:\r\n",
        "   print(f\"{day+1}-{month}-{year}\")\r\n",
        "elif month<12:\r\n",
        "   print(f'1-{month+1}-{year}')\r\n",
        "else:\r\n",
        "   print(f'1-1-{year+1}')"
      ],
      "execution_count": null,
      "outputs": []
    }
  ]
}