{
  "nbformat": 4,
  "nbformat_minor": 0,
  "metadata": {
    "colab": {
      "name": "Practical2.ipynb",
      "provenance": [],
      "collapsed_sections": [],
      "include_colab_link": true
    },
    "kernelspec": {
      "name": "python3",
      "display_name": "Python 3"
    }
  },
  "cells": [
    {
      "cell_type": "markdown",
      "metadata": {
        "id": "view-in-github",
        "colab_type": "text"
      },
      "source": [
        "<a href=\"https://colab.research.google.com/github/HarshadShah3/Python-Programs/blob/main/Practical2.ipynb\" target=\"_parent\"><img src=\"https://colab.research.google.com/assets/colab-badge.svg\" alt=\"Open In Colab\"/></a>"
      ]
    },
    {
      "cell_type": "markdown",
      "metadata": {
        "id": "kesKY3yUPXBS"
      },
      "source": [
        "Roll no. : I056\r\n",
        "\r\n",
        "Program: B.Tech CS-AI\r\n",
        "\r\n",
        "Semester: 2\r\n",
        "\r\n",
        "Name : Harshad Shah\r\n",
        "\r\n",
        "Division: I\r\n",
        "\r\n",
        "Batch: I2\r\n"
      ]
    },
    {
      "cell_type": "markdown",
      "metadata": {
        "id": "mTwcwDfAPmdP"
      },
      "source": [
        "Task 1:  \r\n",
        "Write a python program to print list elements, \r\n",
        "1.\tseparated by commas.\r\n",
        "2.\tevery element on the new line.\r\n",
        "\r\n",
        "\r\n"
      ]
    },
    {
      "cell_type": "code",
      "metadata": {
        "colab": {
          "base_uri": "https://localhost:8080/"
        },
        "id": "089D9SriPrBM",
        "outputId": "79718521-ec3b-4adc-c6da-fdd1a292f170"
      },
      "source": [
        "fruits = [\"apple\" , \"banana\" , \"kiwi\" , \"orange\"] \r\n",
        "print(fruits[0], \",\" , fruits[1], \",\", fruits[2], \",\" , fruits[3])\r\n",
        "print(*fruits,sep=\"\\n\")\r\n"
      ],
      "execution_count": null,
      "outputs": [
        {
          "output_type": "stream",
          "text": [
            "apple , banana , kiwi , orange\n",
            "apple\n",
            "banana\n",
            "kiwi\n",
            "orange\n"
          ],
          "name": "stdout"
        }
      ]
    },
    {
      "cell_type": "markdown",
      "metadata": {
        "id": "coh8YjJhQPnP"
      },
      "source": [
        "Task 2:  \r\n",
        "Write a python program to print a list by converting a list to a string. \r\n",
        "\r\n",
        "\r\n",
        "\r\n"
      ]
    },
    {
      "cell_type": "code",
      "metadata": {
        "colab": {
          "base_uri": "https://localhost:8080/"
        },
        "id": "qyAVQaXzQS-j",
        "outputId": "eaf25adb-cf62-4bdc-facf-edd30580ee37"
      },
      "source": [
        "numbers = [\"one\",\"two\",\"three\"]  \r\n",
        "print(str(numbers)[1:-1])\r\n",
        "print(' '.join(numbers)) Task 1:  \r\n"
      ],
      "execution_count": null,
      "outputs": [
        {
          "output_type": "stream",
          "text": [
            "'one', 'two', 'three'\n",
            "one two three\n"
          ],
          "name": "stdout"
        }
      ]
    },
    {
      "cell_type": "markdown",
      "metadata": {
        "id": "4A8wPojKSbmp"
      },
      "source": [
        "Task 3:  \r\n",
        "Write a python program to convert radian to degrees and vice versa.\r\n"
      ]
    },
    {
      "cell_type": "code",
      "metadata": {
        "colab": {
          "base_uri": "https://localhost:8080/"
        },
        "id": "jcoTpZxGSc70",
        "outputId": "d3c9952b-4a58-4c1e-baa1-7001f6696d49"
      },
      "source": [
        "pi = 22/7\r\n",
        "radian = float(input(\"Radians : \"))\r\n",
        "degree = radian*(180/pi)\r\n",
        "print(degree)\r\n"
      ],
      "execution_count": null,
      "outputs": [
        {
          "output_type": "stream",
          "text": [
            "Radians : 10\n",
            "572.7272727272727\n"
          ],
          "name": "stdout"
        }
      ]
    },
    {
      "cell_type": "markdown",
      "metadata": {
        "id": "agD8gEv3Z_So"
      },
      "source": [
        "Task 4: \r\n",
        "Write a program to input 3 sides of a triangle and find sine, cosine, tangent and hypotenuse.\r\n"
      ]
    },
    {
      "cell_type": "code",
      "metadata": {
        "colab": {
          "base_uri": "https://localhost:8080/"
        },
        "id": "3ZJkwsD9aG6Y",
        "outputId": "9c41b1ff-065c-429a-f970-08e75dbd6eee"
      },
      "source": [
        "import math\r\n",
        "s1 = int(input(\"Enter side 1 : \")) \r\n",
        "s2 = int(input(\"Enter side 2 : \")) \r\n",
        "s3 = math.pi/6\r\n",
        "print(math.sin(s3))\r\n",
        "print(math.cos(s3)) \r\n",
        "print(math.tan(s3)) \r\n",
        "print(math.hypot(s1,s2)) \r\n"
      ],
      "execution_count": null,
      "outputs": [
        {
          "output_type": "stream",
          "text": [
            "Enter side 1 : 4\n",
            "Enter side 2 : 3\n",
            "0.49999999999999994\n",
            "0.8660254037844387\n",
            "0.5773502691896257\n",
            "5.0\n"
          ],
          "name": "stdout"
        }
      ]
    },
    {
      "cell_type": "markdown",
      "metadata": {
        "id": "wu8rf-qzdFW3"
      },
      "source": [
        "Task 5:  \r\n",
        "Write a Python program using mathematical functions to find\r\n",
        "1.\tHCF of two numbers (User input)\r\n",
        "2.\tFactorial of a user given number.\r\n",
        "3.\tAbsolute value of a user given number.\r\n"
      ]
    },
    {
      "cell_type": "code",
      "metadata": {
        "colab": {
          "base_uri": "https://localhost:8080/"
        },
        "id": "C6127ZFRdJnD",
        "outputId": "64a8a58f-da54-4592-fe43-e05884e1ee83"
      },
      "source": [
        "import math\r\n",
        "number1 = int(input(\"Enter first number : \")) \r\n",
        "number2 = int(input(\"Enter the second number : \")) \r\n",
        "print(\"HCF of two numbers : \",math.gcd(number1,number2))\r\n",
        "print(\"Factorial : \",math.factorial(number1)) \r\n",
        "print(\"Absolute value : \",math.fabs(number1)) \r\n",
        "\r\n"
      ],
      "execution_count": null,
      "outputs": [
        {
          "output_type": "stream",
          "text": [
            "Enter first number : 2\n",
            "Enter the second number : 3\n",
            "HCF of two numbers :  1\n",
            "Factorial :  2\n",
            "Absolute value :  2.0\n"
          ],
          "name": "stdout"
        }
      ]
    },
    {
      "cell_type": "markdown",
      "metadata": {
        "id": "JmgneOe5e8_-"
      },
      "source": [
        "Task 6 : \r\n",
        "1.\tCreate a 'class_1' list and pass the elements  'Geoffrey Hinton','Andrew Ng','Sebastian Raschka','Yoshua Bengio'.\r\n",
        "2.\tCreate a 'class_2' list and pass the elements 'Hilary Mason','Carla Gentry','Corinna Cortes'.\r\n",
        "3.\tConcatenate the 'class_1' and 'class_2' list. Store the values in a'new_class' variable.\r\n",
        "4.\tPrint the 'new_class' variable to see the new list.\r\n",
        "5.\tAdd a new element ‘Henry’ in the new list. \r\n",
        "6.\tRemove the 'Hilary' element.\r\n",
        "7.\tCreate the following list for marks of 5 subjects Andrew= [98, 93, 90, 100, 92], Carla= [60, 65, 60, 75, 69], Hilary= [87, 50, 54, 77, 52]\r\n",
        "8.\tFind and display percentage of all the students in a list.\r\n",
        "9.\tAndrew Ng turns out to be topper in class. Assign it to variable ‘topper’\r\n",
        "10.\tSplit the 'topper'  in 'first_name' and 'last_name'.\r\n",
        "11.\tDisplay the ‘full name’ concatenating the strings 'last_name' and 'first_name' strings.( add whitespace)\r\n",
        "12.\tConvert all the elements in the 'full_name' string to uppercase.\r\n",
        "\r\n"
      ]
    },
    {
      "cell_type": "code",
      "metadata": {
        "colab": {
          "base_uri": "https://localhost:8080/"
        },
        "id": "p_ri2FTsfBgA",
        "outputId": "ab595467-6bc6-4cfa-8d1b-f598fdde7d49"
      },
      "source": [
        "class_1 = [\"Geoffrey Hinton\",\"Andrew Ng\",\"Sebastian Raschka\",\"Yoshua Bengio\"]\r\n",
        "class_2 = [\"Hilary Mason\",\"Carla Gentry\",\"Corinna Cortes\"]\r\n",
        "new_class = class_1 + class_2\r\n",
        "print(new_class) \r\n",
        "new_class.append(\"Henry\") \r\n",
        "new_class.pop(4) \r\n",
        "print(new_class) \r\n",
        "Andrew_marks = [98, 93, 90, 100, 92]\r\n",
        "Carla_marks = [60, 65, 60, 75, 69]\r\n",
        "Hilary_marks = [87, 50, 54, 77, 52]\r\n",
        "perc_andrew = (Andrew_marks[0]+Andrew_marks[1]+Andrew_marks[2]+Andrew_marks[3]+Andrew_marks[4]/5)*100 \r\n",
        "perc_carla = (Carla_marks[0]+Carla_marks[1]+Carla_marks[2]+Carla_marks[3]+Carla_marks[4]/5)*100 \r\n",
        "perc_hilary = (Hilary_marks[0]+Hilary_marks[1]+Hilary_marks[2]+Hilary_marks[3]+Hilary_marks[4]/5)*100\r\n",
        "print([perc_andrew , perc_carla , perc_hilary])  \r\n",
        "topper = \"Andrew Ng\"\r\n",
        "first_name = topper[0:6]\r\n",
        "last_name = topper[7:]\r\n",
        "full_name = last_name + last_name\r\n",
        "print(full_name.upper())\r\n"
      ],
      "execution_count": null,
      "outputs": [
        {
          "output_type": "stream",
          "text": [
            "['Geoffrey Hinton', 'Andrew Ng', 'Sebastian Raschka', 'Yoshua Bengio', 'Hilary Mason', 'Carla Gentry', 'Corinna Cortes']\n",
            "['Geoffrey Hinton', 'Andrew Ng', 'Sebastian Raschka', 'Yoshua Bengio', 'Carla Gentry', 'Corinna Cortes', 'Henry']\n",
            "[39940.0, 27380.0, 27839.999999999996]\n",
            "NGNG\n"
          ],
          "name": "stdout"
        }
      ]
    },
    {
      "cell_type": "markdown",
      "metadata": {
        "id": "PkG5VvO0YEe-"
      },
      "source": [
        "Task 7 : \r\n",
        "\r\n",
        "Write a Python program to clone or copy a list \r\n",
        "\r\n",
        "Write a Python program to check if a Python list is empty "
      ]
    },
    {
      "cell_type": "code",
      "metadata": {
        "colab": {
          "base_uri": "https://localhost:8080/"
        },
        "id": "VTxyxTmCYJKC",
        "outputId": "bba69ecd-1eac-4052-98e5-b50207d8ead8"
      },
      "source": [
        "a = [\"Monday\" , \"Tuesday\" , \"Wednesday\" , \"Thursday\" , \"Friday\" , \"Saturday\" , \"Sunday\"] \r\n",
        "b = a.copy()\r\n",
        "print(b)\r\n",
        "c_list = []\r\n",
        "\r\n",
        "if len(c_list):\r\n",
        "\tprint('The list is not empty')\r\n",
        "else:\r\n",
        "\tprint('The list is empty')\r\n"
      ],
      "execution_count": null,
      "outputs": [
        {
          "output_type": "stream",
          "text": [
            "['Monday', 'Tuesday', 'Wednesday', 'Thursday', 'Friday', 'Saturday', 'Sunday']\n",
            "The list is empty\n"
          ],
          "name": "stdout"
        }
      ]
    },
    {
      "cell_type": "markdown",
      "metadata": {
        "id": "Wr02Zi8EY-9j"
      },
      "source": [
        "Task 8 :\r\n",
        "\r\n",
        "Tuple = (\"NMIMS\", [10, 20, 30], (5, 15, 25))\r\n",
        "\r\n",
        "Access value 20\r\n",
        "\r\n",
        "Unpack the following tuple into 3 variables"
      ]
    },
    {
      "cell_type": "code",
      "metadata": {
        "colab": {
          "base_uri": "https://localhost:8080/"
        },
        "id": "Teb_aCygZDVP",
        "outputId": "c63a15b4-01f8-4b92-f88c-13e8fb65203d"
      },
      "source": [
        "Tuple = (\"NMIMS\", [10, 20, 30], (5, 15, 25))\r\n",
        "a = Tuple[1][1]\r\n",
        "print(a)\r\n",
        "tuple1 = Tuple[0]\r\n",
        "tuple2 = Tuple[1]\r\n",
        "tuple3 = Tuple[2]\r\n",
        "print(tuple1)\r\n",
        "print(tuple2)\r\n",
        "print(tuple3)"
      ],
      "execution_count": null,
      "outputs": [
        {
          "output_type": "stream",
          "text": [
            "20\n",
            "NMIMS\n",
            "[10, 20, 30]\n",
            "(5, 15, 25)\n"
          ],
          "name": "stdout"
        }
      ]
    },
    {
      "cell_type": "markdown",
      "metadata": {
        "id": "eYu6LFNSZYLf"
      },
      "source": [
        "Task 9:\r\n",
        "\r\n",
        "Write code to swap the following two tuples : tuple1 = (11, 22) tuple2 = (99, 88)\r\n",
        "\r\n",
        "Expected Output : tuple1 = (99, 88) tuple2 = (11, 22)\r\n",
        "\r\n",
        "tuple1 = (11, [22, 33], 44, 55)\r\n",
        "\r\n",
        "Modify the first item (22) of a list inside a following tuple to 2000"
      ]
    },
    {
      "cell_type": "code",
      "metadata": {
        "colab": {
          "base_uri": "https://localhost:8080/"
        },
        "id": "-h1NVAGrZdTJ",
        "outputId": "cad047f5-f68a-46b3-a0fa-3c86ddf53ae8"
      },
      "source": [
        "tuple1 = (11, 22)\r\n",
        "tuple2 = (99, 88)\r\n",
        "tuple1, tuple2 = tuple2, tuple1\r\n",
        "print(\"tuple1 =\",tuple1,\"tuple2 =\",tuple2)\r\n",
        "tuple1 = (11, [22, 33], 44, 55)\r\n",
        "tuple1[1][0]=2000\r\n",
        "print(tuple1)"
      ],
      "execution_count": null,
      "outputs": [
        {
          "output_type": "stream",
          "text": [
            "tuple1 = (99, 88) tuple2 = (11, 22)\n",
            "(11, [2000, 33], 44, 55)\n"
          ],
          "name": "stdout"
        }
      ]
    },
    {
      "cell_type": "markdown",
      "metadata": {
        "id": "mYvn_F8TZpw5"
      },
      "source": [
        "Task 10:\r\n",
        "\r\n",
        "tuple1 = (11, 22, 33, 44, 55, 11, 66, 11)\r\n",
        "\r\n",
        "Write code to copy element 44 and 55 from the following tuple into a new tuple ‘tuple2’\r\n",
        "\r\n",
        "Count the number of occurrences of item 11 in the tuple.\r\n",
        "\r\n",
        "Reverse the tuple."
      ]
    },
    {
      "cell_type": "code",
      "metadata": {
        "colab": {
          "base_uri": "https://localhost:8080/"
        },
        "id": "kVZ_oborZusK",
        "outputId": "ef5a597a-b14e-4c78-8923-97d2cd4255a3"
      },
      "source": [
        "tuple1 = (11, 22, 33, 44, 55, 11, 66, 11)\r\n",
        "tuple2 =(tuple1[3],tuple1[4])\r\n",
        "print(tuple2)\r\n",
        "i=0\r\n",
        "k=0\r\n",
        "for elem in tuple1:\r\n",
        "  if tuple1[i]==11:\r\n",
        "    k=k+1 \r\n",
        "    i=i+1\r\n",
        "  else :\r\n",
        "    i=i+1\r\n",
        "print(\"occurrences are\", k)\r\n",
        "aTuple = (10, 20, 30, 40, 50)\r\n",
        "aTuple = aTuple[::-1]\r\n",
        "print(aTuple)  "
      ],
      "execution_count": null,
      "outputs": [
        {
          "output_type": "stream",
          "text": [
            "(44, 55)\n",
            "occurrences are 3\n",
            "(50, 40, 30, 20, 10)\n"
          ],
          "name": "stdout"
        }
      ]
    }
  ]
}