{
  "nbformat": 4,
  "nbformat_minor": 0,
  "metadata": {
    "colab": {
      "name": "Prac5.ipynb",
      "provenance": [],
      "collapsed_sections": [],
      "include_colab_link": true
    },
    "kernelspec": {
      "name": "python3",
      "display_name": "Python 3"
    },
    "language_info": {
      "name": "python"
    }
  },
  "cells": [
    {
      "cell_type": "markdown",
      "metadata": {
        "id": "view-in-github",
        "colab_type": "text"
      },
      "source": [
        "<a href=\"https://colab.research.google.com/github/HarshadShah3/Python-Programs/blob/main/Practical5.ipynb\" target=\"_parent\"><img src=\"https://colab.research.google.com/assets/colab-badge.svg\" alt=\"Open In Colab\"/></a>"
      ]
    },
    {
      "cell_type": "markdown",
      "metadata": {
        "id": "CXbEcWkF4Va8"
      },
      "source": [
        "Roll no. : I031\n",
        "\n",
        "Program: B.Tech CS-AI\n",
        "\n",
        "Semester: 2\n",
        "\n",
        "Name : Harshad Shah\n",
        "\n",
        "Batch: I2"
      ]
    },
    {
      "cell_type": "markdown",
      "metadata": {
        "id": "E2aULQRCgGJs"
      },
      "source": [
        "Task 1:  \n",
        "Write a function that returns the sum of multiples of 3 and 5 between 0 and limit (parameter). Test case : limit = 20, it should return (sum of 3, 5, 6, 9, 10, 12, 15, 18, 20)\n",
        "*italicized text*"
      ]
    },
    {
      "cell_type": "code",
      "metadata": {
        "colab": {
          "base_uri": "https://localhost:8080/"
        },
        "id": "nIhqvfj6f-w8",
        "outputId": "9bb98130-4369-4ad4-e422-3b52e9fe6629"
      },
      "source": [
        "def sum(limit):\n",
        "    sum = int(0)\n",
        "    num = int(limit)\n",
        "    t = list()\n",
        "    for i in range(1,num, 1):\n",
        "        if i*3<=num and i not in t:\n",
        "            sum = sum+(i*3)\n",
        "            t.append(i*3)\n",
        "        if i*5<=num and i not in t:\n",
        "            sum = sum+(i*5)\n",
        "            t.append(i*5)\n",
        "    return sum\n",
        "lim = int(input(\"Enter integer limit: \"))\n",
        "ans = sum(lim)\n",
        "print(\"Result = \", ans)"
      ],
      "execution_count": null,
      "outputs": [
        {
          "output_type": "stream",
          "text": [
            "Enter integer limit: 20\n",
            "Result =  56\n"
          ],
          "name": "stdout"
        }
      ]
    },
    {
      "cell_type": "markdown",
      "metadata": {
        "id": "0hmTCTs5noIN"
      },
      "source": [
        "Task 2:  \n",
        "Write a Python function to check whether a string is a pangram or not.\n"
      ]
    },
    {
      "cell_type": "code",
      "metadata": {
        "colab": {
          "base_uri": "https://localhost:8080/"
        },
        "id": "u4wHGrwanpuz",
        "outputId": "ad9ca685-12a6-42e0-f521-df0cb2fb3250"
      },
      "source": [
        "def ispangram(string): \n",
        "    alphabet = \"abcdefghijklmnopqrstuvwxyz\"\n",
        "    for char in alphabet: \n",
        "        if char not in string.lower(): \n",
        "            return False\n",
        "  \n",
        "    return True\n",
        "       \n",
        "inp = str(input(\"Enter a string to check if it is a Pangram: \"))\n",
        "if(ispangram(inp) == True): \n",
        "    print(\"It is a pangram string\") \n",
        "else: \n",
        "    print(\"It is not a pangram string\")"
      ],
      "execution_count": null,
      "outputs": [
        {
          "output_type": "stream",
          "text": [
            "Enter a string to check if it is a Pangram: the quick brown fox jumps over the lazy dog\n",
            "It is a pangram string\n"
          ],
          "name": "stdout"
        }
      ]
    },
    {
      "cell_type": "markdown",
      "metadata": {
        "id": "GIEWixORoEXf"
      },
      "source": [
        "Task 3: \n",
        "Write a function called show numbers that takes a parameter called limit. It should print all the numbers between 0 and limit with a label to identify the even and odd numbers. \n",
        "For example, if the limit is 4, it should print:\n",
        "0 EVEN\n",
        "1 ODD\n",
        "2 EVEN\n",
        "3 ODD\n",
        "4 EVEN\n"
      ]
    },
    {
      "cell_type": "code",
      "metadata": {
        "colab": {
          "base_uri": "https://localhost:8080/"
        },
        "id": "H9HVAcc3oFhT",
        "outputId": "d8f163a7-735a-444b-e296-13d1e2fdfc24"
      },
      "source": [
        "def shownumbers(limit):\n",
        "    for i in range(0,limit+1):\n",
        "        if i%2==0:\n",
        "            print(f\"{i} is Even\")\n",
        "        else:\n",
        "            print(f\"{i} is Odd\")\n",
        "inp = int(input(\"Enter limit parameter: \"))\n",
        "shownumbers(inp)"
      ],
      "execution_count": null,
      "outputs": [
        {
          "output_type": "stream",
          "text": [
            "Enter limit parameter: 4\n",
            "0 is Even\n",
            "1 is Odd\n",
            "2 is Even\n",
            "3 is Odd\n",
            "4 is Even\n"
          ],
          "name": "stdout"
        }
      ]
    },
    {
      "cell_type": "markdown",
      "metadata": {
        "id": "Mu69ikbAok69"
      },
      "source": [
        "Task 4:  \n",
        "Write a function for checking the speed of drivers. This function should have one parameter: speed. If the speed is less than 70, it should print “Good! Maintain the Speed!”.Otherwise, for every 5 units above the speed limit (70), it should give the driver one penalty point and print the total number of penalty points. For example, if the speed is 80, it should print: “Points: 2”.If the driver gets more than 12 points, the function should print: “License suspended”\n"
      ]
    },
    {
      "cell_type": "code",
      "metadata": {
        "colab": {
          "base_uri": "https://localhost:8080/"
        },
        "id": "v2GcOavPoo5R",
        "outputId": "d4a16d63-8e76-47bb-b4b1-df6c7a056378"
      },
      "source": [
        "def checkspeed(speed):\n",
        "    if (speed-70)<0:\n",
        "        print(\"Good! Maintain the Speed!\")\n",
        "    else:\n",
        "        pocal = speed-70\n",
        "        points = pocal//5\n",
        "        if points>=12:\n",
        "            print(\"License Suspended\")\n",
        "        else:\n",
        "            print(f\"Points : {points}\")\n",
        "inp = int(input(\"Enter speed: \"))\n",
        "checkspeed(inp)"
      ],
      "execution_count": null,
      "outputs": [
        {
          "output_type": "stream",
          "text": [
            "Enter speed: 130\n",
            "License Suspended\n"
          ],
          "name": "stdout"
        }
      ]
    },
    {
      "cell_type": "markdown",
      "metadata": {
        "id": "ZPKPfMyHqz5_"
      },
      "source": [
        "Task 5 : \n",
        "Define a function that can generate a list where the values are square of numbers between 1 and 20 (both included). Then the function needs to print the last 5 elements in the list.\n"
      ]
    },
    {
      "cell_type": "code",
      "metadata": {
        "colab": {
          "base_uri": "https://localhost:8080/"
        },
        "id": "TEC5tbl1q20x",
        "outputId": "1fb45615-6004-4e79-a921-e7782aa37f2c"
      },
      "source": [
        "def printlist():\n",
        "    l = list()\n",
        "    for i in range(1,21):\n",
        "        l.append(i**2)\n",
        "    for i in range(len(l)-1, len(l)-6, -1):\n",
        "        print(l[i])\n",
        "printlist()"
      ],
      "execution_count": null,
      "outputs": [
        {
          "output_type": "stream",
          "text": [
            "400\n",
            "361\n",
            "324\n",
            "289\n",
            "256\n"
          ],
          "name": "stdout"
        }
      ]
    },
    {
      "cell_type": "markdown",
      "metadata": {
        "id": "mfrMmEw_sNDP"
      },
      "source": [
        "Task 6 : \n",
        "Write a function to check whether two strings are anagrams of each other.\n",
        "Test Cases : \n",
        "Stressed - Desserts → True\n",
        "Inch - Chin → True\n",
        "Inches - Chin → False\n"
      ]
    },
    {
      "cell_type": "code",
      "metadata": {
        "colab": {
          "base_uri": "https://localhost:8080/"
        },
        "id": "zrxY_R33sSSH",
        "outputId": "978b4e82-6585-4b35-bd2c-8fc6172b1843"
      },
      "source": [
        "def anag(s1, s2):\n",
        "    for i in s1.lower():\n",
        "        if i not in s2.lower():\n",
        "            return False\n",
        "        else:\n",
        "            continue\n",
        "    if len(s1)!=len(s2):\n",
        "        return False\n",
        "    return True\n",
        "inp1 = str(input(\"Enter first string: \"))\n",
        "inp2 = str(input(\"Enter second string: \"))\n",
        "print(f\"{inp1} - {inp2} --> {anag(inp1, inp2)}\")"
      ],
      "execution_count": null,
      "outputs": [
        {
          "output_type": "stream",
          "text": [
            "Enter first string: Inches\n",
            "Enter second string: Chin\n",
            "Inches - Chin --> False\n"
          ],
          "name": "stdout"
        }
      ]
    },
    {
      "cell_type": "markdown",
      "metadata": {
        "id": "7ZIF4ZqktDqC"
      },
      "source": [
        "Task 7:\n",
        "Write a function to detect an anagram from the string. (Anagram Scramble)\n",
        "Test case :\n",
        "INPUT\tOUTPUT\n",
        "laboratory\tBat\tTrue\n",
        "ticket\tchat\tFalse\n"
      ]
    },
    {
      "cell_type": "code",
      "metadata": {
        "colab": {
          "base_uri": "https://localhost:8080/"
        },
        "id": "E3ukJj1_tPKI",
        "outputId": "731c21d6-1673-40ef-bc77-1dfa34fa642f"
      },
      "source": [
        "def anag(s1, s2):\n",
        "    for i in s2.lower():\n",
        "        if i not in s1.lower():\n",
        "            return False\n",
        "        else:\n",
        "            continue\n",
        "    return True\n",
        "inp1 = str(input(\"Enter first string: \"))\n",
        "inp2 = str(input(\"Enter second string to check: \"))\n",
        "print(f\"{inp1} - {inp2} --> {anag(inp1, inp2)}\")"
      ],
      "execution_count": null,
      "outputs": [
        {
          "output_type": "stream",
          "text": [
            "Enter first string: ticket\n",
            "Enter second string to check: chat\n",
            "ticket - chat --> False\n"
          ],
          "name": "stdout"
        }
      ]
    },
    {
      "cell_type": "markdown",
      "metadata": {
        "id": "qucZ4D_Ott5-"
      },
      "source": [
        "Task 8:\n",
        "Write a function to construct the following pattern\n",
        "1 \n",
        "2 4 \n",
        "3 6 9 \n",
        "4 8 12 16 \n",
        "5 10 15 20 25 \n",
        "6 12 18 24 30 36 \n",
        "7 14 21 28 35 42 49 \n",
        "8 16 24 32 40 48 56 64 \n",
        "9 18 27 36 45 54 63 72 81 \n",
        "10 20 30 40 50 60 70 80 90 100 \n"
      ]
    },
    {
      "cell_type": "code",
      "metadata": {
        "colab": {
          "base_uri": "https://localhost:8080/"
        },
        "id": "3GFWzeMttvrx",
        "outputId": "b259a272-441d-477a-a950-cd22775e1eb1"
      },
      "source": [
        "def pattern(n):\n",
        "    for i in range(1,n+1):\n",
        "        for j in range(1,i+1):\n",
        "            print((i*j), end=\" \")\n",
        "        print()\n",
        "pattern(10)"
      ],
      "execution_count": null,
      "outputs": [
        {
          "output_type": "stream",
          "text": [
            "1 \n",
            "2 4 \n",
            "3 6 9 \n",
            "4 8 12 16 \n",
            "5 10 15 20 25 \n",
            "6 12 18 24 30 36 \n",
            "7 14 21 28 35 42 49 \n",
            "8 16 24 32 40 48 56 64 \n",
            "9 18 27 36 45 54 63 72 81 \n",
            "10 20 30 40 50 60 70 80 90 100 \n"
          ],
          "name": "stdout"
        }
      ]
    },
    {
      "cell_type": "markdown",
      "metadata": {
        "id": "nNlVBin8u7TA"
      },
      "source": [
        "Task 9:\n",
        "Write a Python function that checks if the given number is part of the fibonacci sequence.\n",
        "Test Case: \n",
        "377 - True\n",
        "145 - False\n"
      ]
    },
    {
      "cell_type": "code",
      "metadata": {
        "colab": {
          "base_uri": "https://localhost:8080/"
        },
        "id": "dw__1u7iu-OW",
        "outputId": "ada3b69a-50b9-4ea8-8885-c0fcd8a185b7"
      },
      "source": [
        "def fibcheck(n):\n",
        "    a = int(0)\n",
        "    b = int(1)\n",
        "    for i in range(0,n):\n",
        "        sum = a+b\n",
        "        a = b\n",
        "        b = sum\n",
        "        if sum == n:\n",
        "            return True\n",
        "    return False\n",
        "inp = int(input(\"Enter number to check: \"))\n",
        "print(f\"{inp} --> {fibcheck(inp)}\")"
      ],
      "execution_count": 1,
      "outputs": [
        {
          "output_type": "stream",
          "text": [
            "Enter number to check: 377\n",
            "377 --> True\n"
          ],
          "name": "stdout"
        }
      ]
    },
    {
      "cell_type": "markdown",
      "metadata": {
        "id": "eLrSr03pxxzF"
      },
      "source": [
        "Task 10:\n",
        "Write a Function to rotate string left and right by x length \n",
        "Input : string =  “Bengaluru”, x =3\n",
        "Output:\n",
        "Left Rotation :  galuruBen\n",
        "Right Rotation :  uruBengal\n"
      ]
    },
    {
      "cell_type": "code",
      "metadata": {
        "colab": {
          "base_uri": "https://localhost:8080/"
        },
        "id": "OJHfj-Nbx0Nz",
        "outputId": "b33deee1-8afb-44ad-d441-b642fc956258"
      },
      "source": [
        "def rotate(s, n):\n",
        "    resL = str(\"\")\n",
        "    resR = str(\"\")\n",
        "    m = s.find(s[n-1])\n",
        "    t = list()\n",
        "    t.append(s[0:m+1:1])\n",
        "    t.append(s[m+1:len(s):1])\n",
        "    resL = resL + t[1] + t[0]\n",
        "    m = s.find(s[len(s)-1-n])\n",
        "    k = list()\n",
        "    k.append(s[0:m+1:1])\n",
        "    k.append(s[m+1:len(s):1])\n",
        "    resR = resR + k[1] + k[0]\n",
        "    print(f\"Left Rotation: {resL}\\nRight Rotation: {resR}\")\n",
        "inp1 = str(input(\"Enter String: \"))\n",
        "inp2 = int(input(\"Enter index to cut at: \"))\n",
        "rotate(inp1, inp2)"
      ],
      "execution_count": null,
      "outputs": [
        {
          "output_type": "stream",
          "text": [
            "Enter String: Bengaluru\n",
            "Enter index to cut at: 3\n",
            "Left Rotation: galuruBen\n",
            "Right Rotation: uruBengal\n"
          ],
          "name": "stdout"
        }
      ]
    }
  ]
}