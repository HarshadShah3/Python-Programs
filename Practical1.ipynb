{
  "nbformat": 4,
  "nbformat_minor": 0,
  "metadata": {
    "colab": {
      "name": "Practical1.ipynb",
      "provenance": [],
      "collapsed_sections": [],
      "authorship_tag": "ABX9TyNpLtsg3PaFPgcHWrHWSdfV",
      "include_colab_link": true
    },
    "kernelspec": {
      "name": "python3",
      "display_name": "Python 3"
    }
  },
  "cells": [
    {
      "cell_type": "markdown",
      "metadata": {
        "id": "view-in-github",
        "colab_type": "text"
      },
      "source": [
        "<a href=\"https://colab.research.google.com/github/HarshadShah3/Python-Programs/blob/main/Practical1.ipynb\" target=\"_parent\"><img src=\"https://colab.research.google.com/assets/colab-badge.svg\" alt=\"Open In Colab\"/></a>"
      ]
    },
    {
      "cell_type": "markdown",
      "metadata": {
        "id": "0LU9kq7PkZOv"
      },
      "source": [
        "Roll No: I056\r\n",
        "\r\n",
        "Name: Harshad Shah\r\n",
        "\r\n",
        "Program: AI\r\n",
        "\r\n",
        "Semester: 2nd\r\n",
        "\r\n",
        "Batch: I2\r\n",
        "\r\n",
        "Date of Experiment: 15/02/21"
      ]
    },
    {
      "cell_type": "markdown",
      "metadata": {
        "id": "YNebYT1-hrdg"
      },
      "source": [
        "# Task 1:  \r\n",
        "\r\n",
        "Program to demonstrate data type in python. \r\n",
        "\r\n",
        "1.1 Program to print basic data type of given variable \r\n",
        "\r\n",
        "i. a = 5\t\t ii. a = 2.0 \tiii. a = 1+2j \tiv. a = ‘NMIMS’\r\n"
      ]
    },
    {
      "cell_type": "code",
      "metadata": {
        "colab": {
          "base_uri": "https://localhost:8080/",
          "height": 0
        },
        "id": "RyaWDRjMO1f7",
        "outputId": "7e42a37c-60e9-4859-b058-e87507350101"
      },
      "source": [
        "a = 5\r\n",
        "print(type(a))\r\n",
        "a = 2.0\r\n",
        "print(type(a))\r\n",
        "a = 1+2j\r\n",
        "print(type(a))\r\n",
        "a = 'NMIMS'\r\n",
        "print(type(a))"
      ],
      "execution_count": 38,
      "outputs": [
        {
          "output_type": "stream",
          "text": [
            "<class 'int'>\n",
            "<class 'float'>\n",
            "<class 'complex'>\n",
            "<class 'str'>\n"
          ],
          "name": "stdout"
        }
      ]
    },
    {
      "cell_type": "markdown",
      "metadata": {
        "id": "rlRbg1poh3bb"
      },
      "source": [
        "Task 2:  \r\n",
        "Write a Python Program to the roots of a Quadratic Equation. d = b2 - 4ac"
      ]
    },
    {
      "cell_type": "code",
      "metadata": {
        "colab": {
          "base_uri": "https://localhost:8080/",
          "height": 0
        },
        "id": "MqLKAuqQQoFG",
        "outputId": "07c25e1a-576b-4565-94c8-2d76fad15f06"
      },
      "source": [
        "a = int(input('Number for the x^2 coordinate :'))\r\n",
        "b = int(input('Number for the x^1 coordinate :'))\r\n",
        "c = int(input('Number for the x^0 coordinate :'))\r\n",
        "\r\n",
        "d = (b**2) - 4*a*c\r\n",
        "\r\n",
        "r1 = (-b+(d**(1/2)))/(2*a)\r\n",
        "r2 = (-b-(d**(1/2)))/(2*a)\r\n",
        "\r\n",
        "print(\"The roots are {0} and {1}\".format(r1,r2))"
      ],
      "execution_count": 37,
      "outputs": [
        {
          "output_type": "stream",
          "text": [
            "Number for the x^2 coordinate :5\n",
            "Number for the x^1 coordinate :2\n",
            "Number for the x^0 coordinate :1\n",
            "The roots are (-0.19999999999999998+0.4j) and (-0.20000000000000004-0.4j)\n"
          ],
          "name": "stdout"
        }
      ]
    },
    {
      "cell_type": "markdown",
      "metadata": {
        "id": "TGCobaA_h-3v"
      },
      "source": [
        "Task 3:  \r\n",
        "Write a Python Program to Convert Celsius To Fahrenheit.\r\n"
      ]
    },
    {
      "cell_type": "code",
      "metadata": {
        "colab": {
          "base_uri": "https://localhost:8080/",
          "height": 0
        },
        "id": "n_QBSqq1S_b-",
        "outputId": "9d82f5cf-70b7-484e-c100-02fb7078e8ca"
      },
      "source": [
        "c = int(input('Enter TEmperature in Celcius :'))\r\n",
        "f = ((c * (9/5)) + 32)\r\n",
        "\r\n",
        "print('The Temperature in Farenheit will be :', f)"
      ],
      "execution_count": 36,
      "outputs": [
        {
          "output_type": "stream",
          "text": [
            "Enter TEmperature in Celcius :45\n",
            "The Temperature in Farenheit will be : 113.0\n"
          ],
          "name": "stdout"
        }
      ]
    },
    {
      "cell_type": "markdown",
      "metadata": {
        "id": "NpGngJd_iB_H"
      },
      "source": [
        "Task 4: \r\n",
        "What will be the output of the following Python code? Justify.\r\n",
        "\r\n",
        "1.\tstr=\"NMIMS BTech Artificial Intelligence\"\r\n",
        "str[11:22]\r\n",
        "\r\n",
        "\r\n",
        "2.\ta=10\r\n",
        "a = a + '2'\r\n",
        "a = a*2\r\n",
        "\r\n",
        "\r\n",
        "3.\tx = 1234\r\n",
        "print(\"%08d\"%x)\r\n"
      ]
    },
    {
      "cell_type": "code",
      "metadata": {
        "colab": {
          "base_uri": "https://localhost:8080/",
          "height": 35
        },
        "id": "iREOXl3KT1Gt",
        "outputId": "bba6f62a-755d-4b0b-9d5f-0b1ccff91c69"
      },
      "source": [
        "str=\"NMIMS BTech Artificial Intelligence\"\r\n",
        "str[11:22]"
      ],
      "execution_count": 35,
      "outputs": [
        {
          "output_type": "execute_result",
          "data": {
            "application/vnd.google.colaboratory.intrinsic+json": {
              "type": "string"
            },
            "text/plain": [
              "' Artificial'"
            ]
          },
          "metadata": {
            "tags": []
          },
          "execution_count": 35
        }
      ]
    },
    {
      "cell_type": "code",
      "metadata": {
        "colab": {
          "base_uri": "https://localhost:8080/",
          "height": 197
        },
        "id": "5FQWdILMT_Cs",
        "outputId": "3ffeffa7-4efe-4fb8-881e-f8ad4205a188"
      },
      "source": [
        "a=10\r\n",
        "a = a + '2'\r\n",
        "a = a*2"
      ],
      "execution_count": 34,
      "outputs": [
        {
          "output_type": "error",
          "ename": "TypeError",
          "evalue": "ignored",
          "traceback": [
            "\u001b[0;31m---------------------------------------------------------------------------\u001b[0m",
            "\u001b[0;31mTypeError\u001b[0m                                 Traceback (most recent call last)",
            "\u001b[0;32m<ipython-input-34-ee68dd0b815f>\u001b[0m in \u001b[0;36m<module>\u001b[0;34m()\u001b[0m\n\u001b[1;32m      1\u001b[0m \u001b[0ma\u001b[0m\u001b[0;34m=\u001b[0m\u001b[0;36m10\u001b[0m\u001b[0;34m\u001b[0m\u001b[0;34m\u001b[0m\u001b[0m\n\u001b[0;32m----> 2\u001b[0;31m \u001b[0ma\u001b[0m \u001b[0;34m=\u001b[0m \u001b[0ma\u001b[0m \u001b[0;34m+\u001b[0m \u001b[0;34m'2'\u001b[0m\u001b[0;34m\u001b[0m\u001b[0;34m\u001b[0m\u001b[0m\n\u001b[0m\u001b[1;32m      3\u001b[0m \u001b[0ma\u001b[0m \u001b[0;34m=\u001b[0m \u001b[0ma\u001b[0m\u001b[0;34m*\u001b[0m\u001b[0;36m2\u001b[0m\u001b[0;34m\u001b[0m\u001b[0;34m\u001b[0m\u001b[0m\n",
            "\u001b[0;31mTypeError\u001b[0m: unsupported operand type(s) for +: 'int' and 'str'"
          ]
        }
      ]
    },
    {
      "cell_type": "code",
      "metadata": {
        "colab": {
          "base_uri": "https://localhost:8080/",
          "height": 0
        },
        "id": "j_jjqpynUD60",
        "outputId": "44f2bf39-bdb6-4206-c2ec-e40f19952c19"
      },
      "source": [
        "x = 1234\r\n",
        "print(\"%08d\"%x)"
      ],
      "execution_count": 33,
      "outputs": [
        {
          "output_type": "stream",
          "text": [
            "00001234\n"
          ],
          "name": "stdout"
        }
      ]
    },
    {
      "cell_type": "markdown",
      "metadata": {
        "id": "IAlQGV_qiGbX"
      },
      "source": [
        "Task 5:\r\n",
        "Write a Python program to convert the distance (in feet) to inches, yards, and miles.\r\n"
      ]
    },
    {
      "cell_type": "code",
      "metadata": {
        "colab": {
          "base_uri": "https://localhost:8080/",
          "height": 0
        },
        "id": "MOWk0Ld6WBH9",
        "outputId": "66faf0ea-f5da-4fb2-c6d8-23adeba6a529"
      },
      "source": [
        "f = int(input('Enter distance in Feet :'))\r\n",
        "i = (f*12)\r\n",
        "y = (f/3)\r\n",
        "m = (f/5280)\r\n",
        "\r\n",
        "print('The distance in Inches :', i)\r\n",
        "print('The distance in Yards :', y)\r\n",
        "print('The distance in Miles :', m)"
      ],
      "execution_count": 32,
      "outputs": [
        {
          "output_type": "stream",
          "text": [
            "Enter distance in Feet :658\n",
            "The distance in Inches : 7896\n",
            "The distance in Yards : 219.33333333333334\n",
            "The distance in Miles : 0.12462121212121212\n"
          ],
          "name": "stdout"
        }
      ]
    },
    {
      "cell_type": "markdown",
      "metadata": {
        "id": "g4WWUIV-iJbW"
      },
      "source": [
        "Task 6 : \r\n",
        "Write a Python program to solve (x + y) * (x + y). \r\n",
        "\r\n",
        "Read the values of x and y from the user.\r\n",
        "Expected Output : ((x + y) ^ 2) \r\n"
      ]
    },
    {
      "cell_type": "code",
      "metadata": {
        "colab": {
          "base_uri": "https://localhost:8080/",
          "height": 0
        },
        "id": "4wDmBy_fWgDG",
        "outputId": "d5b103f5-e177-4fd6-8c1d-94112fb4f7f8"
      },
      "source": [
        "x = int(input('Enter a Value :'))\r\n",
        "y = int(input('Enter another Value :'))\r\n",
        "\r\n",
        "total = ((x+y)**2)\r\n",
        "print('The total value is :', total)"
      ],
      "execution_count": 31,
      "outputs": [
        {
          "output_type": "stream",
          "text": [
            "Enter a Value :2\n",
            "Enter another Value :7\n",
            "The total value is : 81\n"
          ],
          "name": "stdout"
        }
      ]
    },
    {
      "cell_type": "markdown",
      "metadata": {
        "id": "a3da_li1iQIu"
      },
      "source": [
        "Task 7 :\r\n",
        "1.\tWrite a Python program to convert seconds to day, hour, minutes and seconds.\r\n",
        "2.\tWrite a Python program to convert the number of days to years, months & days.\r\n",
        "\r\n"
      ]
    },
    {
      "cell_type": "code",
      "metadata": {
        "colab": {
          "base_uri": "https://localhost:8080/",
          "height": 0
        },
        "id": "pZjVt3dYXkiy",
        "outputId": "958e9197-9aee-44c2-b801-f7e3b2615b17"
      },
      "source": [
        "s = int(input('Enter the number of Seconds :'))\r\n",
        "day = s//(60*24*60)\r\n",
        "s = s%(60*24*60)\r\n",
        "hrs = s//(60*60)\r\n",
        "s = s%(60*60)\r\n",
        "min = s//60\r\n",
        "s = s%60\r\n",
        "\r\n",
        "print('Days :', day)\r\n",
        "print('Hours :', hrs)\r\n",
        "print('Minutes :', min)\r\n",
        "print('Seconds :', s)"
      ],
      "execution_count": 30,
      "outputs": [
        {
          "output_type": "stream",
          "text": [
            "Enter the number of Seconds :98754\n",
            "Days : 1\n",
            "Hours : 3\n",
            "Minutes : 25\n",
            "Seconds : 54\n"
          ],
          "name": "stdout"
        }
      ]
    },
    {
      "cell_type": "code",
      "metadata": {
        "colab": {
          "base_uri": "https://localhost:8080/",
          "height": 0
        },
        "id": "tMEG-piFaBe7",
        "outputId": "9be24f2d-cc75-4f74-b55d-71bfbfe87e95"
      },
      "source": [
        "d = int(input('Enter number of Days :'))\r\n",
        "y = d//365\r\n",
        "d = d%365\r\n",
        "m = d//30\r\n",
        "d = d%30\r\n",
        "\r\n",
        "print('Years :', y)\r\n",
        "print('Months :', m)\r\n",
        "print('Days :', d)"
      ],
      "execution_count": 29,
      "outputs": [
        {
          "output_type": "stream",
          "text": [
            "Enter number of Days :657\n",
            "Years : 1\n",
            "Months : 9\n",
            "Days : 22\n"
          ],
          "name": "stdout"
        }
      ]
    },
    {
      "cell_type": "markdown",
      "metadata": {
        "id": "D3qdcNDjiUg-"
      },
      "source": [
        "Task 8 : \r\n",
        "\r\n",
        "1.\tWrite a Python Program to Calculate Area of an Ellipse.\r\n",
        "2.\tWrite a Python Program to Find the Surface Area of Cone.\r\n"
      ]
    },
    {
      "cell_type": "code",
      "metadata": {
        "colab": {
          "base_uri": "https://localhost:8080/",
          "height": 0
        },
        "id": "LipCeaoGbY8D",
        "outputId": "8be4ae6c-fd41-40de-b6b7-ea1695b2d893"
      },
      "source": [
        "import math\r\n",
        "import cmath\r\n",
        "a = float(input('Enter variable A :'))\r\n",
        "b = float(input('Enter variable B :'))\r\n",
        "\r\n",
        "area = a*b*math.pi\r\n",
        "print('The Area is :', area)"
      ],
      "execution_count": 28,
      "outputs": [
        {
          "output_type": "stream",
          "text": [
            "Enter variable A :10\n",
            "Enter variable B :5\n",
            "The Area is : 157.07963267948966\n"
          ],
          "name": "stdout"
        }
      ]
    },
    {
      "cell_type": "markdown",
      "metadata": {
        "id": "VFW13K3siX_W"
      },
      "source": [
        "Task 9 : \r\n",
        "Write a Python program to display your birth date.  \r\n",
        "\r\n",
        "Eg : birth_date = (11, 12, 2014)\r\n",
        "Sample Output: Your Birthdate is  : 11 / 12 / 2014\r\n",
        "\r\n"
      ]
    },
    {
      "cell_type": "code",
      "metadata": {
        "colab": {
          "base_uri": "https://localhost:8080/",
          "height": 0
        },
        "id": "x2E8wkZCdxVi",
        "outputId": "7e5c48b0-a19a-4036-9d1b-95865c24ded9"
      },
      "source": [
        "r = float(input('Enter height :'))\r\n",
        "h = float(input('Enter Radius :'))\r\n",
        "\r\n",
        "area = (math.pi*r)*(r + (math.sqrt((r**2) + (h**2))))\r\n",
        "print('Surface Area =', area)"
      ],
      "execution_count": 27,
      "outputs": [
        {
          "output_type": "stream",
          "text": [
            "Enter height :10\n",
            "Enter Radius :10\n",
            "Surface Area = 758.447559174816\n"
          ],
          "name": "stdout"
        }
      ]
    },
    {
      "cell_type": "code",
      "metadata": {
        "colab": {
          "base_uri": "https://localhost:8080/",
          "height": 0
        },
        "id": "zgNJHqTifRSH",
        "outputId": "ec5da982-322d-4ed6-a746-2c7feca82f6c"
      },
      "source": [
        "btuple = (\"11\",\"12\",\"2014\")\r\n",
        "print(btuple[0],\"/\",btuple[1],\"/\",btuple[2])"
      ],
      "execution_count": 26,
      "outputs": [
        {
          "output_type": "stream",
          "text": [
            "11 / 12 / 2014\n"
          ],
          "name": "stdout"
        }
      ]
    }
  ]
}