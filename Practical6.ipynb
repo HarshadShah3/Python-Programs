{
  "nbformat": 4,
  "nbformat_minor": 0,
  "metadata": {
    "colab": {
      "name": "Practical6.ipynb",
      "provenance": [],
      "collapsed_sections": [],
      "include_colab_link": true
    },
    "kernelspec": {
      "name": "python3",
      "display_name": "Python 3"
    },
    "language_info": {
      "name": "python"
    }
  },
  "cells": [
    {
      "cell_type": "markdown",
      "metadata": {
        "id": "view-in-github",
        "colab_type": "text"
      },
      "source": [
        "<a href=\"https://colab.research.google.com/github/HarshadShah3/Python-Programs/blob/main/Practical6.ipynb\" target=\"_parent\"><img src=\"https://colab.research.google.com/assets/colab-badge.svg\" alt=\"Open In Colab\"/></a>"
      ]
    },
    {
      "cell_type": "markdown",
      "metadata": {
        "id": "3jfeJebhPi1S"
      },
      "source": [
        "Roll No: I056\n",
        "\n",
        "Name: Harshad Shah\n",
        "\n",
        "Program: B.Tech AI\n",
        "\n",
        "Batch: I2"
      ]
    },
    {
      "cell_type": "code",
      "metadata": {
        "id": "EQ7BL0xmGHTF"
      },
      "source": [
        ""
      ],
      "execution_count": null,
      "outputs": []
    },
    {
      "cell_type": "markdown",
      "metadata": {
        "id": "YOotHXx1PlTn"
      },
      "source": [
        "#Task 1\n",
        "WAP to convert Decimal to binary number using recursion."
      ]
    },
    {
      "cell_type": "code",
      "metadata": {
        "colab": {
          "base_uri": "https://localhost:8080/",
          "height": 0
        },
        "id": "YzahK-QaPq_c",
        "outputId": "c919d2b7-026c-4548-cf41-d64e214d7824"
      },
      "source": [
        "def Bin(Num):\n",
        "    if Num == 0:\n",
        "        return 0\n",
        "    N= Bin(Num // 2)\n",
        "    return Num% 2+ 10* N\n",
        "Num= int(input(\"Enter Number: \"))\n",
        "print(Bin(Num))"
      ],
      "execution_count": 1,
      "outputs": [
        {
          "output_type": "stream",
          "text": [
            "Enter Number: 3\n",
            "11\n"
          ],
          "name": "stdout"
        }
      ]
    },
    {
      "cell_type": "markdown",
      "metadata": {
        "id": "QSWCX7BTUMO2"
      },
      "source": [
        "#Task 2\n",
        "WAP to find Product of two numbers using Recursion."
      ]
    },
    {
      "cell_type": "code",
      "metadata": {
        "colab": {
          "base_uri": "https://localhost:8080/",
          "height": 0
        },
        "id": "jjLknFtEUTnE",
        "outputId": "6f26affc-b773-4de7-c021-e2b2e0f19c7b"
      },
      "source": [
        "def Mul(N1, N2):\n",
        "    if N2 == 1:\n",
        "        return N1\n",
        "    return Mul(N1, N2- 1)+ N1\n",
        "N1, N2= int(input(\"  \")), int(input(\"X \"))\n",
        "print(\"=\", Mul(N1, N2))"
      ],
      "execution_count": 2,
      "outputs": [
        {
          "output_type": "stream",
          "text": [
            "  2\n",
            "X 5\n",
            "= 10\n"
          ],
          "name": "stdout"
        }
      ]
    },
    {
      "cell_type": "markdown",
      "metadata": {
        "id": "K3Gh8_VCaxeu"
      },
      "source": [
        "#Task 3\n",
        "Predict the output of the following program. What does the following function() do?"
      ]
    },
    {
      "cell_type": "code",
      "metadata": {
        "id": "XJR6GWLga1ap"
      },
      "source": [
        "def function(i) :\n",
        "  if (i % 2 == 1) :\n",
        "    i += 1\n",
        "    return (i - 1)\n",
        "  else :\n",
        "    return fun(fun(i - 1))"
      ],
      "execution_count": 3,
      "outputs": []
    },
    {
      "cell_type": "markdown",
      "metadata": {
        "id": "67dSvNQcbj5p"
      },
      "source": [
        "It's a recursive code to return the closest odd number below or at the Number given."
      ]
    },
    {
      "cell_type": "markdown",
      "metadata": {
        "id": "aae8S9zzcExM"
      },
      "source": [
        "#Task 4\n",
        "WAP to find the LCM and GCD of two numbers using recursion."
      ]
    },
    {
      "cell_type": "code",
      "metadata": {
        "colab": {
          "base_uri": "https://localhost:8080/",
          "height": 0
        },
        "id": "2RnPn8j2wKS3",
        "outputId": "5b9a7608-3494-43e3-da65-73c1913458c8"
      },
      "source": [
        "def GCD(N1, N2, Gcd):\n",
        "    if (N1% Gcd == 0 and N2% Gcd == 0):\n",
        "        return Gcd\n",
        "    else:\n",
        "        Gcd+= 1\n",
        "        return GCD(N1, N2, Gcd)\n",
        "def LCM(N1, N2, Lcm):\n",
        "    if(Lcm% N1 == 0 and Lcm% N2 == 0):\n",
        "        return Lcm\n",
        "    else:\n",
        "        Lcm+= 1\n",
        "        return LCM(N1, N2, Lcm)\n",
        "N1, N2= int(input(\"Num1: \")), int(input(\"Num2: \"))\n",
        "print(\"GCD=\",GCD(N1, N2, 2),\"LCM=\", LCM(N1, N2, max(N1, N2)))"
      ],
      "execution_count": 4,
      "outputs": [
        {
          "output_type": "stream",
          "text": [
            "Num1: 10\n",
            "Num2: 5\n",
            "GCD= 5 LCM= 10\n"
          ],
          "name": "stdout"
        }
      ]
    },
    {
      "cell_type": "markdown",
      "metadata": {
        "id": "wISGqcEGwROn"
      },
      "source": [
        "#Task 5\n",
        "Write a recursive function to calculate the harmonic sum of n numbers"
      ]
    },
    {
      "cell_type": "code",
      "metadata": {
        "colab": {
          "base_uri": "https://localhost:8080/",
          "height": 0
        },
        "id": "SMwF52R_wY1U",
        "outputId": "8efd8a33-2a26-425e-e57e-0dcb822cbc61"
      },
      "source": [
        "def HPS(a, d, n, Sum):\n",
        "    if n == 1:\n",
        "        return Sum+ a\n",
        "    else:\n",
        "        Sum+= 1/ ((1/ a)+ (n- 1)* (1/ d))\n",
        "        n-= 1\n",
        "        return HPS(a, d, n, Sum)\n",
        "a, d, n= 1/ (float(input(\"a= 1/ \"))), 1/ (float(input(\"d= \"))), int(input(\"n= \"))\n",
        "print(HPS(a, d, n, 0))"
      ],
      "execution_count": 5,
      "outputs": [
        {
          "output_type": "stream",
          "text": [
            "a= 1/ 10\n",
            "d= 5\n",
            "n= 2\n",
            "0.16666666666666669\n"
          ],
          "name": "stdout"
        }
      ]
    },
    {
      "cell_type": "markdown",
      "metadata": {
        "id": "NHAcnWIKxKak"
      },
      "source": [
        "#Task 6\n",
        "Write a Python program to calculate the sum of the positive and negative numbers of a given list (assign 15 numbers in the list) of numbers using the lambda function."
      ]
    },
    {
      "cell_type": "code",
      "metadata": {
        "colab": {
          "base_uri": "https://localhost:8080/"
        },
        "id": "6PHRYPBKxPo6",
        "outputId": "18a0a94a-a85c-4c29-b3d3-d67959e5f706"
      },
      "source": [
        "Nums= [0, 5, -6, 12, 4, -8, 6, 7, -9, 10, -12, 15, 10, 25, -31]\n",
        "Neg= filter(lambda x: x< 0, Nums)\n",
        "NS= sum(Neg)\n",
        "Pos= filter(lambda x: x> 0, Nums)\n",
        "PS= sum(Pos)\n",
        "print(NS)\n",
        "print(PS)"
      ],
      "execution_count": null,
      "outputs": [
        {
          "output_type": "stream",
          "text": [
            "-66\n",
            "94\n"
          ],
          "name": "stdout"
        }
      ]
    },
    {
      "cell_type": "markdown",
      "metadata": {
        "id": "TD2fYiTVxU9q"
      },
      "source": [
        "#Task 7\n",
        "Write a Python program to Remove all elements from a given list present in another list using lambda function."
      ]
    },
    {
      "cell_type": "code",
      "metadata": {
        "colab": {
          "base_uri": "https://localhost:8080/"
        },
        "id": "epnaiJuuxg3X",
        "outputId": "83e820e5-c1e6-4ddb-98cc-e0eafdfed158"
      },
      "source": [
        "List, Rem= [1, 2, 3, 4, 5, 6, 7], [2, 4, 6]\n",
        "Fil= filter(lambda x: x not in Rem, List)\n",
        "print(list(Fil))"
      ],
      "execution_count": null,
      "outputs": [
        {
          "output_type": "stream",
          "text": [
            "[1, 3, 5, 7]\n"
          ],
          "name": "stdout"
        }
      ]
    },
    {
      "cell_type": "markdown",
      "metadata": {
        "id": "o7tOX6MHxmHo"
      },
      "source": [
        "#Task 8\n",
        "Write a Python program to count the even, odd numbers in a list using Lambda."
      ]
    },
    {
      "cell_type": "code",
      "metadata": {
        "colab": {
          "base_uri": "https://localhost:8080/"
        },
        "id": "kgSzsL_XywND",
        "outputId": "af560184-3fcd-481a-8b7e-0baff5ada6cc"
      },
      "source": [
        "List= [1, 2, 3, 4, 5, 6, 7, 8, 9, 10, 11]\n",
        "Eve= filter(lambda x: x% 2 == 0, List)\n",
        "Odd= filter(lambda x: x% 2 == 1, List)\n",
        "print(\"Number of Even Nums:\", len(list(Eve)))\n",
        "print(\"Number of Odd Nums:\", len(list(Odd)))"
      ],
      "execution_count": null,
      "outputs": [
        {
          "output_type": "stream",
          "text": [
            "Number of Even Nums: 5\n",
            "Number of Odd Nums: 6\n"
          ],
          "name": "stdout"
        }
      ]
    },
    {
      "cell_type": "markdown",
      "metadata": {
        "id": "CI8radG1zBx1"
      },
      "source": [
        "#Task 9\n",
        "Write a Python program to calculate the average value of the numbers in a given tuple of tuples using lambda.\n",
        "\n",
        "Input : t = ((10, 10, 10), (20, 20, 20), (100, 100, 100))\n",
        "\n",
        "Output : (130, 130, 130)"
      ]
    },
    {
      "cell_type": "code",
      "metadata": {
        "colab": {
          "base_uri": "https://localhost:8080/"
        },
        "id": "V-xhHt8MzK-N",
        "outputId": "d51c97bb-f7f4-4b65-85bf-1f12f5c5a6d7"
      },
      "source": [
        "Tup= ((10, 10, 20), (30, 40, 30), (110, 100, 100))\n",
        "Avg= tuple (map (lambda x, y, z: x+ y+ z, Tup[0], Tup[1], Tup[2]))\n",
        "print(str(Avg))\n",
        "#I hate this"
      ],
      "execution_count": null,
      "outputs": [
        {
          "output_type": "stream",
          "text": [
            "(150, 150, 150)\n"
          ],
          "name": "stdout"
        }
      ]
    }
  ]
}